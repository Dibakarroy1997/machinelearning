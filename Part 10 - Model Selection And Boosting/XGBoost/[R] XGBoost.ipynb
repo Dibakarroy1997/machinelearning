{
 "cells": [
  {
   "cell_type": "markdown",
   "metadata": {},
   "source": [
    "# XGBoost"
   ]
  },
  {
   "cell_type": "markdown",
   "metadata": {},
   "source": [
    "### Data preprocessing"
   ]
  },
  {
   "cell_type": "code",
   "execution_count": 1,
   "metadata": {
    "collapsed": true
   },
   "outputs": [],
   "source": [
    "# Importing the dataset\n",
    "dataset = read.csv('Churn_Modelling.csv')"
   ]
  },
  {
   "cell_type": "code",
   "execution_count": 2,
   "metadata": {},
   "outputs": [
    {
     "data": {
      "text/html": [
       "<table>\n",
       "<thead><tr><th scope=col>RowNumber</th><th scope=col>CustomerId</th><th scope=col>Surname</th><th scope=col>CreditScore</th><th scope=col>Geography</th><th scope=col>Gender</th><th scope=col>Age</th><th scope=col>Tenure</th><th scope=col>Balance</th><th scope=col>NumOfProducts</th><th scope=col>HasCrCard</th><th scope=col>IsActiveMember</th><th scope=col>EstimatedSalary</th><th scope=col>Exited</th></tr></thead>\n",
       "<tbody>\n",
       "\t<tr><td>1        </td><td>15634602 </td><td>Hargrave </td><td>619      </td><td>France   </td><td>Female   </td><td>42       </td><td>2        </td><td>     0.00</td><td>1        </td><td>1        </td><td>1        </td><td>101348.88</td><td>1        </td></tr>\n",
       "\t<tr><td>2        </td><td>15647311 </td><td>Hill     </td><td>608      </td><td>Spain    </td><td>Female   </td><td>41       </td><td>1        </td><td> 83807.86</td><td>1        </td><td>0        </td><td>1        </td><td>112542.58</td><td>0        </td></tr>\n",
       "\t<tr><td>3        </td><td>15619304 </td><td>Onio     </td><td>502      </td><td>France   </td><td>Female   </td><td>42       </td><td>8        </td><td>159660.80</td><td>3        </td><td>1        </td><td>0        </td><td>113931.57</td><td>1        </td></tr>\n",
       "\t<tr><td>4        </td><td>15701354 </td><td>Boni     </td><td>699      </td><td>France   </td><td>Female   </td><td>39       </td><td>1        </td><td>     0.00</td><td>2        </td><td>0        </td><td>0        </td><td> 93826.63</td><td>0        </td></tr>\n",
       "\t<tr><td>5        </td><td>15737888 </td><td>Mitchell </td><td>850      </td><td>Spain    </td><td>Female   </td><td>43       </td><td>2        </td><td>125510.82</td><td>1        </td><td>1        </td><td>1        </td><td> 79084.10</td><td>0        </td></tr>\n",
       "</tbody>\n",
       "</table>\n"
      ],
      "text/latex": [
       "\\begin{tabular}{r|llllllllllllll}\n",
       " RowNumber & CustomerId & Surname & CreditScore & Geography & Gender & Age & Tenure & Balance & NumOfProducts & HasCrCard & IsActiveMember & EstimatedSalary & Exited\\\\\n",
       "\\hline\n",
       "\t 1         & 15634602  & Hargrave  & 619       & France    & Female    & 42        & 2         &      0.00 & 1         & 1         & 1         & 101348.88 & 1        \\\\\n",
       "\t 2         & 15647311  & Hill      & 608       & Spain     & Female    & 41        & 1         &  83807.86 & 1         & 0         & 1         & 112542.58 & 0        \\\\\n",
       "\t 3         & 15619304  & Onio      & 502       & France    & Female    & 42        & 8         & 159660.80 & 3         & 1         & 0         & 113931.57 & 1        \\\\\n",
       "\t 4         & 15701354  & Boni      & 699       & France    & Female    & 39        & 1         &      0.00 & 2         & 0         & 0         &  93826.63 & 0        \\\\\n",
       "\t 5         & 15737888  & Mitchell  & 850       & Spain     & Female    & 43        & 2         & 125510.82 & 1         & 1         & 1         &  79084.10 & 0        \\\\\n",
       "\\end{tabular}\n"
      ],
      "text/markdown": [
       "\n",
       "RowNumber | CustomerId | Surname | CreditScore | Geography | Gender | Age | Tenure | Balance | NumOfProducts | HasCrCard | IsActiveMember | EstimatedSalary | Exited | \n",
       "|---|---|---|---|---|\n",
       "| 1         | 15634602  | Hargrave  | 619       | France    | Female    | 42        | 2         |      0.00 | 1         | 1         | 1         | 101348.88 | 1         | \n",
       "| 2         | 15647311  | Hill      | 608       | Spain     | Female    | 41        | 1         |  83807.86 | 1         | 0         | 1         | 112542.58 | 0         | \n",
       "| 3         | 15619304  | Onio      | 502       | France    | Female    | 42        | 8         | 159660.80 | 3         | 1         | 0         | 113931.57 | 1         | \n",
       "| 4         | 15701354  | Boni      | 699       | France    | Female    | 39        | 1         |      0.00 | 2         | 0         | 0         |  93826.63 | 0         | \n",
       "| 5         | 15737888  | Mitchell  | 850       | Spain     | Female    | 43        | 2         | 125510.82 | 1         | 1         | 1         |  79084.10 | 0         | \n",
       "\n",
       "\n"
      ],
      "text/plain": [
       "  RowNumber CustomerId Surname  CreditScore Geography Gender Age Tenure\n",
       "1 1         15634602   Hargrave 619         France    Female 42  2     \n",
       "2 2         15647311   Hill     608         Spain     Female 41  1     \n",
       "3 3         15619304   Onio     502         France    Female 42  8     \n",
       "4 4         15701354   Boni     699         France    Female 39  1     \n",
       "5 5         15737888   Mitchell 850         Spain     Female 43  2     \n",
       "  Balance   NumOfProducts HasCrCard IsActiveMember EstimatedSalary Exited\n",
       "1      0.00 1             1         1              101348.88       1     \n",
       "2  83807.86 1             0         1              112542.58       0     \n",
       "3 159660.80 3             1         0              113931.57       1     \n",
       "4      0.00 2             0         0               93826.63       0     \n",
       "5 125510.82 1             1         1               79084.10       0     "
      ]
     },
     "metadata": {},
     "output_type": "display_data"
    }
   ],
   "source": [
    "head(dataset, 5)"
   ]
  },
  {
   "cell_type": "code",
   "execution_count": 3,
   "metadata": {
    "collapsed": true
   },
   "outputs": [],
   "source": [
    "dataset = dataset[4:14]\n",
    "dataset = dataset[-c(3)]"
   ]
  },
  {
   "cell_type": "code",
   "execution_count": 4,
   "metadata": {},
   "outputs": [
    {
     "data": {
      "text/html": [
       "<table>\n",
       "<thead><tr><th scope=col>CreditScore</th><th scope=col>Geography</th><th scope=col>Age</th><th scope=col>Tenure</th><th scope=col>Balance</th><th scope=col>NumOfProducts</th><th scope=col>HasCrCard</th><th scope=col>IsActiveMember</th><th scope=col>EstimatedSalary</th><th scope=col>Exited</th></tr></thead>\n",
       "<tbody>\n",
       "\t<tr><td>619      </td><td>France   </td><td>42       </td><td>2        </td><td>     0.00</td><td>1        </td><td>1        </td><td>1        </td><td>101348.88</td><td>1        </td></tr>\n",
       "\t<tr><td>608      </td><td>Spain    </td><td>41       </td><td>1        </td><td> 83807.86</td><td>1        </td><td>0        </td><td>1        </td><td>112542.58</td><td>0        </td></tr>\n",
       "\t<tr><td>502      </td><td>France   </td><td>42       </td><td>8        </td><td>159660.80</td><td>3        </td><td>1        </td><td>0        </td><td>113931.57</td><td>1        </td></tr>\n",
       "\t<tr><td>699      </td><td>France   </td><td>39       </td><td>1        </td><td>     0.00</td><td>2        </td><td>0        </td><td>0        </td><td> 93826.63</td><td>0        </td></tr>\n",
       "\t<tr><td>850      </td><td>Spain    </td><td>43       </td><td>2        </td><td>125510.82</td><td>1        </td><td>1        </td><td>1        </td><td> 79084.10</td><td>0        </td></tr>\n",
       "</tbody>\n",
       "</table>\n"
      ],
      "text/latex": [
       "\\begin{tabular}{r|llllllllll}\n",
       " CreditScore & Geography & Age & Tenure & Balance & NumOfProducts & HasCrCard & IsActiveMember & EstimatedSalary & Exited\\\\\n",
       "\\hline\n",
       "\t 619       & France    & 42        & 2         &      0.00 & 1         & 1         & 1         & 101348.88 & 1        \\\\\n",
       "\t 608       & Spain     & 41        & 1         &  83807.86 & 1         & 0         & 1         & 112542.58 & 0        \\\\\n",
       "\t 502       & France    & 42        & 8         & 159660.80 & 3         & 1         & 0         & 113931.57 & 1        \\\\\n",
       "\t 699       & France    & 39        & 1         &      0.00 & 2         & 0         & 0         &  93826.63 & 0        \\\\\n",
       "\t 850       & Spain     & 43        & 2         & 125510.82 & 1         & 1         & 1         &  79084.10 & 0        \\\\\n",
       "\\end{tabular}\n"
      ],
      "text/markdown": [
       "\n",
       "CreditScore | Geography | Age | Tenure | Balance | NumOfProducts | HasCrCard | IsActiveMember | EstimatedSalary | Exited | \n",
       "|---|---|---|---|---|\n",
       "| 619       | France    | 42        | 2         |      0.00 | 1         | 1         | 1         | 101348.88 | 1         | \n",
       "| 608       | Spain     | 41        | 1         |  83807.86 | 1         | 0         | 1         | 112542.58 | 0         | \n",
       "| 502       | France    | 42        | 8         | 159660.80 | 3         | 1         | 0         | 113931.57 | 1         | \n",
       "| 699       | France    | 39        | 1         |      0.00 | 2         | 0         | 0         |  93826.63 | 0         | \n",
       "| 850       | Spain     | 43        | 2         | 125510.82 | 1         | 1         | 1         |  79084.10 | 0         | \n",
       "\n",
       "\n"
      ],
      "text/plain": [
       "  CreditScore Geography Age Tenure Balance   NumOfProducts HasCrCard\n",
       "1 619         France    42  2           0.00 1             1        \n",
       "2 608         Spain     41  1       83807.86 1             0        \n",
       "3 502         France    42  8      159660.80 3             1        \n",
       "4 699         France    39  1           0.00 2             0        \n",
       "5 850         Spain     43  2      125510.82 1             1        \n",
       "  IsActiveMember EstimatedSalary Exited\n",
       "1 1              101348.88       1     \n",
       "2 1              112542.58       0     \n",
       "3 0              113931.57       1     \n",
       "4 0               93826.63       0     \n",
       "5 1               79084.10       0     "
      ]
     },
     "metadata": {},
     "output_type": "display_data"
    }
   ],
   "source": [
    "head(dataset, 5)"
   ]
  },
  {
   "cell_type": "code",
   "execution_count": 5,
   "metadata": {
    "collapsed": true
   },
   "outputs": [],
   "source": [
    "# Encoding the categorical variables as factors\n",
    "dataset$Geography = as.numeric(factor(dataset$Geography,\n",
    "                                      levels = c('France', 'Spain', 'Germany'),\n",
    "                                      labels = c(1, 2, 3)))"
   ]
  },
  {
   "cell_type": "code",
   "execution_count": 6,
   "metadata": {
    "collapsed": true
   },
   "outputs": [],
   "source": [
    "# Splitting the dataset into the Training set and Test set\n",
    "# install.packages('caTools')\n",
    "library(caTools)\n",
    "set.seed(1234)\n",
    "split = sample.split(dataset$Exited, SplitRatio = 0.8)\n",
    "training_set = subset(dataset, split == TRUE)\n",
    "test_set = subset(dataset, split == FALSE)"
   ]
  },
  {
   "cell_type": "markdown",
   "metadata": {},
   "source": [
    "### Fitting XGBoost to the Training set"
   ]
  },
  {
   "cell_type": "code",
   "execution_count": 7,
   "metadata": {
    "collapsed": true
   },
   "outputs": [],
   "source": [
    "# install.packages('xgboost')\n",
    "library(xgboost)"
   ]
  },
  {
   "cell_type": "code",
   "execution_count": 18,
   "metadata": {},
   "outputs": [
    {
     "name": "stdout",
     "output_type": "stream",
     "text": [
      "[1]\ttrain-rmse:0.417976 \n",
      "[2]\ttrain-rmse:0.369643 \n",
      "[3]\ttrain-rmse:0.341009 \n",
      "[4]\ttrain-rmse:0.325538 \n",
      "[5]\ttrain-rmse:0.316370 \n",
      "[6]\ttrain-rmse:0.309533 \n",
      "[7]\ttrain-rmse:0.306012 \n",
      "[8]\ttrain-rmse:0.302703 \n",
      "[9]\ttrain-rmse:0.300868 \n",
      "[10]\ttrain-rmse:0.298456 \n"
     ]
    }
   ],
   "source": [
    "classifier = xgboost(data = as.matrix(training_set[-10]), \n",
    "                     label = training_set$Exited,\n",
    "                     nrounds = 10)"
   ]
  },
  {
   "cell_type": "markdown",
   "metadata": {},
   "source": [
    "***\n",
    "\n",
    "Its better to think that the converging point is 0.30. But it is worth noting that we can decrease the train-rmse(which stands for root mean square deviation) if we keep on inscreasing nrounds. I tried it myself but the result will be too long to display here. Better try it by running this (below code is just for cross-validation to assess model performance):\n",
    "\n",
    "```R\n",
    "set.seed(1234)\n",
    "cv = xgb.cv(data = as.matrix(training_set[-10]), \n",
    "             label = training_set$Exited, \n",
    "             nfold = 5,\n",
    "             nrounds = 500)\n",
    "```\n",
    "\n",
    "Also if you don't want to display **train-rmse** then pass **verbose = 0** as a parameter.\n",
    "***"
   ]
  },
  {
   "cell_type": "markdown",
   "metadata": {},
   "source": [
    "### Applying k-Fold Cross Validation"
   ]
  },
  {
   "cell_type": "code",
   "execution_count": 9,
   "metadata": {},
   "outputs": [
    {
     "name": "stderr",
     "output_type": "stream",
     "text": [
      "Loading required package: lattice\n",
      "Loading required package: ggplot2\n"
     ]
    }
   ],
   "source": [
    "library(caret)"
   ]
  },
  {
   "cell_type": "code",
   "execution_count": 10,
   "metadata": {},
   "outputs": [
    {
     "name": "stdout",
     "output_type": "stream",
     "text": [
      "[1]\ttrain-rmse:0.417976 \n",
      "[2]\ttrain-rmse:0.369643 \n",
      "[3]\ttrain-rmse:0.341009 \n",
      "[4]\ttrain-rmse:0.325538 \n",
      "[5]\ttrain-rmse:0.316370 \n",
      "[6]\ttrain-rmse:0.309533 \n",
      "[7]\ttrain-rmse:0.306012 \n",
      "[8]\ttrain-rmse:0.302703 \n",
      "[9]\ttrain-rmse:0.300868 \n",
      "[10]\ttrain-rmse:0.298456 \n",
      "[1]\ttrain-rmse:0.417976 \n",
      "[2]\ttrain-rmse:0.369643 \n",
      "[3]\ttrain-rmse:0.341009 \n",
      "[4]\ttrain-rmse:0.325538 \n",
      "[5]\ttrain-rmse:0.316370 \n",
      "[6]\ttrain-rmse:0.309533 \n",
      "[7]\ttrain-rmse:0.306012 \n",
      "[8]\ttrain-rmse:0.302703 \n",
      "[9]\ttrain-rmse:0.300868 \n",
      "[10]\ttrain-rmse:0.298456 \n",
      "[1]\ttrain-rmse:0.417976 \n",
      "[2]\ttrain-rmse:0.369643 \n",
      "[3]\ttrain-rmse:0.341009 \n",
      "[4]\ttrain-rmse:0.325538 \n",
      "[5]\ttrain-rmse:0.316370 \n",
      "[6]\ttrain-rmse:0.309533 \n",
      "[7]\ttrain-rmse:0.306012 \n",
      "[8]\ttrain-rmse:0.302703 \n",
      "[9]\ttrain-rmse:0.300868 \n",
      "[10]\ttrain-rmse:0.298456 \n",
      "[1]\ttrain-rmse:0.417976 \n",
      "[2]\ttrain-rmse:0.369643 \n",
      "[3]\ttrain-rmse:0.341009 \n",
      "[4]\ttrain-rmse:0.325538 \n",
      "[5]\ttrain-rmse:0.316370 \n",
      "[6]\ttrain-rmse:0.309533 \n",
      "[7]\ttrain-rmse:0.306012 \n",
      "[8]\ttrain-rmse:0.302703 \n",
      "[9]\ttrain-rmse:0.300868 \n",
      "[10]\ttrain-rmse:0.298456 \n",
      "[1]\ttrain-rmse:0.417976 \n",
      "[2]\ttrain-rmse:0.369643 \n",
      "[3]\ttrain-rmse:0.341009 \n",
      "[4]\ttrain-rmse:0.325538 \n",
      "[5]\ttrain-rmse:0.316370 \n",
      "[6]\ttrain-rmse:0.309533 \n",
      "[7]\ttrain-rmse:0.306012 \n",
      "[8]\ttrain-rmse:0.302703 \n",
      "[9]\ttrain-rmse:0.300868 \n",
      "[10]\ttrain-rmse:0.298456 \n",
      "[1]\ttrain-rmse:0.417976 \n",
      "[2]\ttrain-rmse:0.369643 \n",
      "[3]\ttrain-rmse:0.341009 \n",
      "[4]\ttrain-rmse:0.325538 \n",
      "[5]\ttrain-rmse:0.316370 \n",
      "[6]\ttrain-rmse:0.309533 \n",
      "[7]\ttrain-rmse:0.306012 \n",
      "[8]\ttrain-rmse:0.302703 \n",
      "[9]\ttrain-rmse:0.300868 \n",
      "[10]\ttrain-rmse:0.298456 \n",
      "[1]\ttrain-rmse:0.417976 \n",
      "[2]\ttrain-rmse:0.369643 \n",
      "[3]\ttrain-rmse:0.341009 \n",
      "[4]\ttrain-rmse:0.325538 \n",
      "[5]\ttrain-rmse:0.316370 \n",
      "[6]\ttrain-rmse:0.309533 \n",
      "[7]\ttrain-rmse:0.306012 \n",
      "[8]\ttrain-rmse:0.302703 \n",
      "[9]\ttrain-rmse:0.300868 \n",
      "[10]\ttrain-rmse:0.298456 \n",
      "[1]\ttrain-rmse:0.417976 \n",
      "[2]\ttrain-rmse:0.369643 \n",
      "[3]\ttrain-rmse:0.341009 \n",
      "[4]\ttrain-rmse:0.325538 \n",
      "[5]\ttrain-rmse:0.316370 \n",
      "[6]\ttrain-rmse:0.309533 \n",
      "[7]\ttrain-rmse:0.306012 \n",
      "[8]\ttrain-rmse:0.302703 \n",
      "[9]\ttrain-rmse:0.300868 \n",
      "[10]\ttrain-rmse:0.298456 \n",
      "[1]\ttrain-rmse:0.417976 \n",
      "[2]\ttrain-rmse:0.369643 \n",
      "[3]\ttrain-rmse:0.341009 \n",
      "[4]\ttrain-rmse:0.325538 \n",
      "[5]\ttrain-rmse:0.316370 \n",
      "[6]\ttrain-rmse:0.309533 \n",
      "[7]\ttrain-rmse:0.306012 \n",
      "[8]\ttrain-rmse:0.302703 \n",
      "[9]\ttrain-rmse:0.300868 \n",
      "[10]\ttrain-rmse:0.298456 \n",
      "[1]\ttrain-rmse:0.417976 \n",
      "[2]\ttrain-rmse:0.369643 \n",
      "[3]\ttrain-rmse:0.341009 \n",
      "[4]\ttrain-rmse:0.325538 \n",
      "[5]\ttrain-rmse:0.316370 \n",
      "[6]\ttrain-rmse:0.309533 \n",
      "[7]\ttrain-rmse:0.306012 \n",
      "[8]\ttrain-rmse:0.302703 \n",
      "[9]\ttrain-rmse:0.300868 \n",
      "[10]\ttrain-rmse:0.298456 \n"
     ]
    }
   ],
   "source": [
    "folds = createFolds(training_set$Exited, k = 10)\n",
    "cv = lapply(folds, function(x){\n",
    "    training_fold = training_set[-x, ]\n",
    "    test_fold = training_set[x, ]\n",
    "    classifier = xgboost(data = as.matrix(training_set[-10]), \n",
    "                         label = training_set$Exited,\n",
    "                         nrounds = 10)\n",
    "    y_fold_pred = predict(classifier, newdata = as.matrix(test_fold[-10]))\n",
    "    y_fold_pred = (y_fold_pred > 0.5)\n",
    "    cm = table(test_fold[, 10], y_fold_pred)\n",
    "    accuracy = (cm[1, 1] + cm[2, 2])/(sum(cm))\n",
    "    return(accuracy)\n",
    "})"
   ]
  },
  {
   "cell_type": "code",
   "execution_count": 11,
   "metadata": {},
   "outputs": [
    {
     "data": {
      "text/html": [
       "0.883375"
      ],
      "text/latex": [
       "0.883375"
      ],
      "text/markdown": [
       "0.883375"
      ],
      "text/plain": [
       "[1] 0.883375"
      ]
     },
     "metadata": {},
     "output_type": "display_data"
    }
   ],
   "source": [
    "mean(as.numeric(cv)) # accuracy"
   ]
  },
  {
   "cell_type": "code",
   "execution_count": 12,
   "metadata": {},
   "outputs": [
    {
     "data": {
      "text/html": [
       "0.0146492557641829"
      ],
      "text/latex": [
       "0.0146492557641829"
      ],
      "text/markdown": [
       "0.0146492557641829"
      ],
      "text/plain": [
       "[1] 0.01464926"
      ]
     },
     "metadata": {},
     "output_type": "display_data"
    }
   ],
   "source": [
    "sd(as.numeric(cv)) # Standard deviation"
   ]
  }
 ],
 "metadata": {
  "kernelspec": {
   "display_name": "R",
   "language": "R",
   "name": "ir"
  },
  "language_info": {
   "codemirror_mode": "r",
   "file_extension": ".r",
   "mimetype": "text/x-r-source",
   "name": "R",
   "pygments_lexer": "r",
   "version": "3.4.2"
  }
 },
 "nbformat": 4,
 "nbformat_minor": 2
}
