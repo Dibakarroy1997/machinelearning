{
 "cells": [
  {
   "cell_type": "markdown",
   "metadata": {},
   "source": [
    "# Artificial Neural Network"
   ]
  },
  {
   "cell_type": "markdown",
   "metadata": {},
   "source": [
    "***\n",
    "\n",
    "**Like in Python, we will not have to use our own resource to train the ANN. Here we will use h2o package which connect to a server and train the ANN on that. More importantly h2o have parameter tunning feature which automatically tune the parameter as per requirement.**\n",
    "\n",
    "***"
   ]
  },
  {
   "cell_type": "markdown",
   "metadata": {},
   "source": [
    "### Data preprocessing"
   ]
  },
  {
   "cell_type": "code",
   "execution_count": 1,
   "metadata": {
    "collapsed": true
   },
   "outputs": [],
   "source": [
    "# Importing the dataset\n",
    "dataset = read.csv('Churn_Modelling.csv')"
   ]
  },
  {
   "cell_type": "code",
   "execution_count": 2,
   "metadata": {},
   "outputs": [
    {
     "data": {
      "text/html": [
       "<table>\n",
       "<thead><tr><th scope=col>RowNumber</th><th scope=col>CustomerId</th><th scope=col>Surname</th><th scope=col>CreditScore</th><th scope=col>Geography</th><th scope=col>Gender</th><th scope=col>Age</th><th scope=col>Tenure</th><th scope=col>Balance</th><th scope=col>NumOfProducts</th><th scope=col>HasCrCard</th><th scope=col>IsActiveMember</th><th scope=col>EstimatedSalary</th><th scope=col>Exited</th></tr></thead>\n",
       "<tbody>\n",
       "\t<tr><td>1        </td><td>15634602 </td><td>Hargrave </td><td>619      </td><td>France   </td><td>Female   </td><td>42       </td><td>2        </td><td>     0.00</td><td>1        </td><td>1        </td><td>1        </td><td>101348.88</td><td>1        </td></tr>\n",
       "\t<tr><td>2        </td><td>15647311 </td><td>Hill     </td><td>608      </td><td>Spain    </td><td>Female   </td><td>41       </td><td>1        </td><td> 83807.86</td><td>1        </td><td>0        </td><td>1        </td><td>112542.58</td><td>0        </td></tr>\n",
       "\t<tr><td>3        </td><td>15619304 </td><td>Onio     </td><td>502      </td><td>France   </td><td>Female   </td><td>42       </td><td>8        </td><td>159660.80</td><td>3        </td><td>1        </td><td>0        </td><td>113931.57</td><td>1        </td></tr>\n",
       "\t<tr><td>4        </td><td>15701354 </td><td>Boni     </td><td>699      </td><td>France   </td><td>Female   </td><td>39       </td><td>1        </td><td>     0.00</td><td>2        </td><td>0        </td><td>0        </td><td> 93826.63</td><td>0        </td></tr>\n",
       "\t<tr><td>5        </td><td>15737888 </td><td>Mitchell </td><td>850      </td><td>Spain    </td><td>Female   </td><td>43       </td><td>2        </td><td>125510.82</td><td>1        </td><td>1        </td><td>1        </td><td> 79084.10</td><td>0        </td></tr>\n",
       "</tbody>\n",
       "</table>\n"
      ],
      "text/latex": [
       "\\begin{tabular}{r|llllllllllllll}\n",
       " RowNumber & CustomerId & Surname & CreditScore & Geography & Gender & Age & Tenure & Balance & NumOfProducts & HasCrCard & IsActiveMember & EstimatedSalary & Exited\\\\\n",
       "\\hline\n",
       "\t 1         & 15634602  & Hargrave  & 619       & France    & Female    & 42        & 2         &      0.00 & 1         & 1         & 1         & 101348.88 & 1        \\\\\n",
       "\t 2         & 15647311  & Hill      & 608       & Spain     & Female    & 41        & 1         &  83807.86 & 1         & 0         & 1         & 112542.58 & 0        \\\\\n",
       "\t 3         & 15619304  & Onio      & 502       & France    & Female    & 42        & 8         & 159660.80 & 3         & 1         & 0         & 113931.57 & 1        \\\\\n",
       "\t 4         & 15701354  & Boni      & 699       & France    & Female    & 39        & 1         &      0.00 & 2         & 0         & 0         &  93826.63 & 0        \\\\\n",
       "\t 5         & 15737888  & Mitchell  & 850       & Spain     & Female    & 43        & 2         & 125510.82 & 1         & 1         & 1         &  79084.10 & 0        \\\\\n",
       "\\end{tabular}\n"
      ],
      "text/markdown": [
       "\n",
       "RowNumber | CustomerId | Surname | CreditScore | Geography | Gender | Age | Tenure | Balance | NumOfProducts | HasCrCard | IsActiveMember | EstimatedSalary | Exited | \n",
       "|---|---|---|---|---|\n",
       "| 1         | 15634602  | Hargrave  | 619       | France    | Female    | 42        | 2         |      0.00 | 1         | 1         | 1         | 101348.88 | 1         | \n",
       "| 2         | 15647311  | Hill      | 608       | Spain     | Female    | 41        | 1         |  83807.86 | 1         | 0         | 1         | 112542.58 | 0         | \n",
       "| 3         | 15619304  | Onio      | 502       | France    | Female    | 42        | 8         | 159660.80 | 3         | 1         | 0         | 113931.57 | 1         | \n",
       "| 4         | 15701354  | Boni      | 699       | France    | Female    | 39        | 1         |      0.00 | 2         | 0         | 0         |  93826.63 | 0         | \n",
       "| 5         | 15737888  | Mitchell  | 850       | Spain     | Female    | 43        | 2         | 125510.82 | 1         | 1         | 1         |  79084.10 | 0         | \n",
       "\n",
       "\n"
      ],
      "text/plain": [
       "  RowNumber CustomerId Surname  CreditScore Geography Gender Age Tenure\n",
       "1 1         15634602   Hargrave 619         France    Female 42  2     \n",
       "2 2         15647311   Hill     608         Spain     Female 41  1     \n",
       "3 3         15619304   Onio     502         France    Female 42  8     \n",
       "4 4         15701354   Boni     699         France    Female 39  1     \n",
       "5 5         15737888   Mitchell 850         Spain     Female 43  2     \n",
       "  Balance   NumOfProducts HasCrCard IsActiveMember EstimatedSalary Exited\n",
       "1      0.00 1             1         1              101348.88       1     \n",
       "2  83807.86 1             0         1              112542.58       0     \n",
       "3 159660.80 3             1         0              113931.57       1     \n",
       "4      0.00 2             0         0               93826.63       0     \n",
       "5 125510.82 1             1         1               79084.10       0     "
      ]
     },
     "metadata": {},
     "output_type": "display_data"
    }
   ],
   "source": [
    "head(dataset, 5)"
   ]
  },
  {
   "cell_type": "code",
   "execution_count": 3,
   "metadata": {
    "collapsed": true
   },
   "outputs": [],
   "source": [
    "dataset = dataset[4:14]\n",
    "dataset = dataset[-c(3)]"
   ]
  },
  {
   "cell_type": "code",
   "execution_count": 4,
   "metadata": {},
   "outputs": [
    {
     "data": {
      "text/html": [
       "<table>\n",
       "<thead><tr><th scope=col>CreditScore</th><th scope=col>Geography</th><th scope=col>Age</th><th scope=col>Tenure</th><th scope=col>Balance</th><th scope=col>NumOfProducts</th><th scope=col>HasCrCard</th><th scope=col>IsActiveMember</th><th scope=col>EstimatedSalary</th><th scope=col>Exited</th></tr></thead>\n",
       "<tbody>\n",
       "\t<tr><td>619      </td><td>France   </td><td>42       </td><td>2        </td><td>     0.00</td><td>1        </td><td>1        </td><td>1        </td><td>101348.88</td><td>1        </td></tr>\n",
       "\t<tr><td>608      </td><td>Spain    </td><td>41       </td><td>1        </td><td> 83807.86</td><td>1        </td><td>0        </td><td>1        </td><td>112542.58</td><td>0        </td></tr>\n",
       "\t<tr><td>502      </td><td>France   </td><td>42       </td><td>8        </td><td>159660.80</td><td>3        </td><td>1        </td><td>0        </td><td>113931.57</td><td>1        </td></tr>\n",
       "\t<tr><td>699      </td><td>France   </td><td>39       </td><td>1        </td><td>     0.00</td><td>2        </td><td>0        </td><td>0        </td><td> 93826.63</td><td>0        </td></tr>\n",
       "\t<tr><td>850      </td><td>Spain    </td><td>43       </td><td>2        </td><td>125510.82</td><td>1        </td><td>1        </td><td>1        </td><td> 79084.10</td><td>0        </td></tr>\n",
       "</tbody>\n",
       "</table>\n"
      ],
      "text/latex": [
       "\\begin{tabular}{r|llllllllll}\n",
       " CreditScore & Geography & Age & Tenure & Balance & NumOfProducts & HasCrCard & IsActiveMember & EstimatedSalary & Exited\\\\\n",
       "\\hline\n",
       "\t 619       & France    & 42        & 2         &      0.00 & 1         & 1         & 1         & 101348.88 & 1        \\\\\n",
       "\t 608       & Spain     & 41        & 1         &  83807.86 & 1         & 0         & 1         & 112542.58 & 0        \\\\\n",
       "\t 502       & France    & 42        & 8         & 159660.80 & 3         & 1         & 0         & 113931.57 & 1        \\\\\n",
       "\t 699       & France    & 39        & 1         &      0.00 & 2         & 0         & 0         &  93826.63 & 0        \\\\\n",
       "\t 850       & Spain     & 43        & 2         & 125510.82 & 1         & 1         & 1         &  79084.10 & 0        \\\\\n",
       "\\end{tabular}\n"
      ],
      "text/markdown": [
       "\n",
       "CreditScore | Geography | Age | Tenure | Balance | NumOfProducts | HasCrCard | IsActiveMember | EstimatedSalary | Exited | \n",
       "|---|---|---|---|---|\n",
       "| 619       | France    | 42        | 2         |      0.00 | 1         | 1         | 1         | 101348.88 | 1         | \n",
       "| 608       | Spain     | 41        | 1         |  83807.86 | 1         | 0         | 1         | 112542.58 | 0         | \n",
       "| 502       | France    | 42        | 8         | 159660.80 | 3         | 1         | 0         | 113931.57 | 1         | \n",
       "| 699       | France    | 39        | 1         |      0.00 | 2         | 0         | 0         |  93826.63 | 0         | \n",
       "| 850       | Spain     | 43        | 2         | 125510.82 | 1         | 1         | 1         |  79084.10 | 0         | \n",
       "\n",
       "\n"
      ],
      "text/plain": [
       "  CreditScore Geography Age Tenure Balance   NumOfProducts HasCrCard\n",
       "1 619         France    42  2           0.00 1             1        \n",
       "2 608         Spain     41  1       83807.86 1             0        \n",
       "3 502         France    42  8      159660.80 3             1        \n",
       "4 699         France    39  1           0.00 2             0        \n",
       "5 850         Spain     43  2      125510.82 1             1        \n",
       "  IsActiveMember EstimatedSalary Exited\n",
       "1 1              101348.88       1     \n",
       "2 1              112542.58       0     \n",
       "3 0              113931.57       1     \n",
       "4 0               93826.63       0     \n",
       "5 1               79084.10       0     "
      ]
     },
     "metadata": {},
     "output_type": "display_data"
    }
   ],
   "source": [
    "head(dataset, 5)"
   ]
  },
  {
   "cell_type": "code",
   "execution_count": 5,
   "metadata": {
    "collapsed": true
   },
   "outputs": [],
   "source": [
    "# Encoding the categorical variables as factors\n",
    "dataset$Geography = as.numeric(factor(dataset$Geography,\n",
    "                                      levels = c('France', 'Spain', 'Germany'),\n",
    "                                      labels = c(1, 2, 3)))"
   ]
  },
  {
   "cell_type": "code",
   "execution_count": 6,
   "metadata": {
    "collapsed": true
   },
   "outputs": [],
   "source": [
    "# Splitting the dataset into the Training set and Test set\n",
    "# install.packages('caTools')\n",
    "library(caTools)\n",
    "set.seed(1234)\n",
    "split = sample.split(dataset$Exited, SplitRatio = 0.8)\n",
    "training_set = subset(dataset, split == TRUE)\n",
    "test_set = subset(dataset, split == FALSE)"
   ]
  },
  {
   "cell_type": "code",
   "execution_count": 7,
   "metadata": {
    "collapsed": true
   },
   "outputs": [],
   "source": [
    "# Feature Scaling\n",
    "training_set[-10] = scale(training_set[-10])\n",
    "test_set[-10] = scale(test_set[-10])"
   ]
  },
  {
   "cell_type": "code",
   "execution_count": 8,
   "metadata": {},
   "outputs": [
    {
     "data": {
      "text/html": [
       "<table>\n",
       "<thead><tr><th scope=col>CreditScore</th><th scope=col>Geography</th><th scope=col>Age</th><th scope=col>Tenure</th><th scope=col>Balance</th><th scope=col>NumOfProducts</th><th scope=col>HasCrCard</th><th scope=col>IsActiveMember</th><th scope=col>EstimatedSalary</th><th scope=col>Exited</th></tr></thead>\n",
       "<tbody>\n",
       "\t<tr><td>-0.32830179 </td><td>-0.8987119  </td><td> 0.291777057</td><td>-1.0542790  </td><td>-1.2236044  </td><td>-0.9108785  </td><td> 0.6454683  </td><td> 0.9568669  </td><td> 0.02811437 </td><td>1           </td></tr>\n",
       "\t<tr><td>-0.44280238 </td><td> 0.3057939  </td><td> 0.196731800</td><td>-1.3997035  </td><td> 0.1171130  </td><td>-0.9108785  </td><td>-1.5490691  </td><td> 0.9568669  </td><td> 0.22279194 </td><td>0           </td></tr>\n",
       "\t<tr><td>-1.54617163 </td><td>-0.8987119  </td><td> 0.291777057</td><td> 1.0182685  </td><td> 1.3305715  </td><td> 2.5418712  </td><td> 0.6454683  </td><td>-1.0449467  </td><td> 0.24694885 </td><td>1           </td></tr>\n",
       "\t<tr><td> 0.50442971 </td><td>-0.8987119  </td><td> 0.006641287</td><td>-1.3997035  </td><td>-1.2236044  </td><td> 0.8154963  </td><td>-1.5490691  </td><td>-1.0449467  </td><td>-0.10271041 </td><td>0           </td></tr>\n",
       "\t<tr><td> 2.07621044 </td><td> 0.3057939  </td><td> 0.386822313</td><td>-1.0542790  </td><td> 0.7842567  </td><td>-0.9108785  </td><td> 0.6454683  </td><td> 0.9568669  </td><td>-0.35910821 </td><td>0           </td></tr>\n",
       "\t<tr><td>-0.05766405 </td><td> 0.3057939  </td><td> 0.481867570</td><td> 1.0182685  </td><td> 0.5962053  </td><td> 0.8154963  </td><td> 0.6454683  </td><td>-1.0449467  </td><td> 0.87000926 </td><td>1           </td></tr>\n",
       "\t<tr><td> 1.78475441 </td><td>-0.8987119  </td><td> 1.052139108</td><td> 0.6728439  </td><td>-1.2236044  </td><td> 0.8154963  </td><td> 0.6454683  </td><td> 0.9568669  </td><td>-1.55950657 </td><td>0           </td></tr>\n",
       "\t<tr><td>-2.85772375 </td><td> 1.5102997  </td><td>-0.943811277</td><td>-0.3634298  </td><td> 0.6168575  </td><td> 4.2682460  </td><td> 0.6454683  </td><td>-1.0449467  </td><td> 0.34113035 </td><td>1           </td></tr>\n",
       "\t<tr><td>-1.55658077 </td><td>-0.8987119  </td><td> 0.481867570</td><td>-0.3634298  </td><td> 1.0488596  </td><td> 0.8154963  </td><td>-1.5490691  </td><td> 0.9568669  </td><td>-0.43117249 </td><td>0           </td></tr>\n",
       "\t<tr><td> 0.34829256 </td><td>-0.8987119  </td><td>-1.133901790</td><td>-1.0542790  </td><td> 0.9297231  </td><td>-0.9108785  </td><td> 0.6454683  </td><td> 0.9568669  </td><td>-0.48708284 </td><td>0           </td></tr>\n",
       "</tbody>\n",
       "</table>\n"
      ],
      "text/latex": [
       "\\begin{tabular}{r|llllllllll}\n",
       " CreditScore & Geography & Age & Tenure & Balance & NumOfProducts & HasCrCard & IsActiveMember & EstimatedSalary & Exited\\\\\n",
       "\\hline\n",
       "\t -0.32830179  & -0.8987119   &  0.291777057 & -1.0542790   & -1.2236044   & -0.9108785   &  0.6454683   &  0.9568669   &  0.02811437  & 1           \\\\\n",
       "\t -0.44280238  &  0.3057939   &  0.196731800 & -1.3997035   &  0.1171130   & -0.9108785   & -1.5490691   &  0.9568669   &  0.22279194  & 0           \\\\\n",
       "\t -1.54617163  & -0.8987119   &  0.291777057 &  1.0182685   &  1.3305715   &  2.5418712   &  0.6454683   & -1.0449467   &  0.24694885  & 1           \\\\\n",
       "\t  0.50442971  & -0.8987119   &  0.006641287 & -1.3997035   & -1.2236044   &  0.8154963   & -1.5490691   & -1.0449467   & -0.10271041  & 0           \\\\\n",
       "\t  2.07621044  &  0.3057939   &  0.386822313 & -1.0542790   &  0.7842567   & -0.9108785   &  0.6454683   &  0.9568669   & -0.35910821  & 0           \\\\\n",
       "\t -0.05766405  &  0.3057939   &  0.481867570 &  1.0182685   &  0.5962053   &  0.8154963   &  0.6454683   & -1.0449467   &  0.87000926  & 1           \\\\\n",
       "\t  1.78475441  & -0.8987119   &  1.052139108 &  0.6728439   & -1.2236044   &  0.8154963   &  0.6454683   &  0.9568669   & -1.55950657  & 0           \\\\\n",
       "\t -2.85772375  &  1.5102997   & -0.943811277 & -0.3634298   &  0.6168575   &  4.2682460   &  0.6454683   & -1.0449467   &  0.34113035  & 1           \\\\\n",
       "\t -1.55658077  & -0.8987119   &  0.481867570 & -0.3634298   &  1.0488596   &  0.8154963   & -1.5490691   &  0.9568669   & -0.43117249  & 0           \\\\\n",
       "\t  0.34829256  & -0.8987119   & -1.133901790 & -1.0542790   &  0.9297231   & -0.9108785   &  0.6454683   &  0.9568669   & -0.48708284  & 0           \\\\\n",
       "\\end{tabular}\n"
      ],
      "text/markdown": [
       "\n",
       "CreditScore | Geography | Age | Tenure | Balance | NumOfProducts | HasCrCard | IsActiveMember | EstimatedSalary | Exited | \n",
       "|---|---|---|---|---|---|---|---|---|---|\n",
       "| -0.32830179  | -0.8987119   |  0.291777057 | -1.0542790   | -1.2236044   | -0.9108785   |  0.6454683   |  0.9568669   |  0.02811437  | 1            | \n",
       "| -0.44280238  |  0.3057939   |  0.196731800 | -1.3997035   |  0.1171130   | -0.9108785   | -1.5490691   |  0.9568669   |  0.22279194  | 0            | \n",
       "| -1.54617163  | -0.8987119   |  0.291777057 |  1.0182685   |  1.3305715   |  2.5418712   |  0.6454683   | -1.0449467   |  0.24694885  | 1            | \n",
       "|  0.50442971  | -0.8987119   |  0.006641287 | -1.3997035   | -1.2236044   |  0.8154963   | -1.5490691   | -1.0449467   | -0.10271041  | 0            | \n",
       "|  2.07621044  |  0.3057939   |  0.386822313 | -1.0542790   |  0.7842567   | -0.9108785   |  0.6454683   |  0.9568669   | -0.35910821  | 0            | \n",
       "| -0.05766405  |  0.3057939   |  0.481867570 |  1.0182685   |  0.5962053   |  0.8154963   |  0.6454683   | -1.0449467   |  0.87000926  | 1            | \n",
       "|  1.78475441  | -0.8987119   |  1.052139108 |  0.6728439   | -1.2236044   |  0.8154963   |  0.6454683   |  0.9568669   | -1.55950657  | 0            | \n",
       "| -2.85772375  |  1.5102997   | -0.943811277 | -0.3634298   |  0.6168575   |  4.2682460   |  0.6454683   | -1.0449467   |  0.34113035  | 1            | \n",
       "| -1.55658077  | -0.8987119   |  0.481867570 | -0.3634298   |  1.0488596   |  0.8154963   | -1.5490691   |  0.9568669   | -0.43117249  | 0            | \n",
       "|  0.34829256  | -0.8987119   | -1.133901790 | -1.0542790   |  0.9297231   | -0.9108785   |  0.6454683   |  0.9568669   | -0.48708284  | 0            | \n",
       "\n",
       "\n"
      ],
      "text/plain": [
       "   CreditScore Geography  Age          Tenure     Balance    NumOfProducts\n",
       "1  -0.32830179 -0.8987119  0.291777057 -1.0542790 -1.2236044 -0.9108785   \n",
       "2  -0.44280238  0.3057939  0.196731800 -1.3997035  0.1171130 -0.9108785   \n",
       "3  -1.54617163 -0.8987119  0.291777057  1.0182685  1.3305715  2.5418712   \n",
       "4   0.50442971 -0.8987119  0.006641287 -1.3997035 -1.2236044  0.8154963   \n",
       "5   2.07621044  0.3057939  0.386822313 -1.0542790  0.7842567 -0.9108785   \n",
       "6  -0.05766405  0.3057939  0.481867570  1.0182685  0.5962053  0.8154963   \n",
       "7   1.78475441 -0.8987119  1.052139108  0.6728439 -1.2236044  0.8154963   \n",
       "8  -2.85772375  1.5102997 -0.943811277 -0.3634298  0.6168575  4.2682460   \n",
       "9  -1.55658077 -0.8987119  0.481867570 -0.3634298  1.0488596  0.8154963   \n",
       "10  0.34829256 -0.8987119 -1.133901790 -1.0542790  0.9297231 -0.9108785   \n",
       "   HasCrCard  IsActiveMember EstimatedSalary Exited\n",
       "1   0.6454683  0.9568669      0.02811437     1     \n",
       "2  -1.5490691  0.9568669      0.22279194     0     \n",
       "3   0.6454683 -1.0449467      0.24694885     1     \n",
       "4  -1.5490691 -1.0449467     -0.10271041     0     \n",
       "5   0.6454683  0.9568669     -0.35910821     0     \n",
       "6   0.6454683 -1.0449467      0.87000926     1     \n",
       "7   0.6454683  0.9568669     -1.55950657     0     \n",
       "8   0.6454683 -1.0449467      0.34113035     1     \n",
       "9  -1.5490691  0.9568669     -0.43117249     0     \n",
       "10  0.6454683  0.9568669     -0.48708284     0     "
      ]
     },
     "metadata": {},
     "output_type": "display_data"
    }
   ],
   "source": [
    "head(training_set, 10)"
   ]
  },
  {
   "cell_type": "code",
   "execution_count": 9,
   "metadata": {
    "scrolled": true
   },
   "outputs": [
    {
     "data": {
      "text/html": [
       "<table>\n",
       "<thead><tr><th></th><th scope=col>CreditScore</th><th scope=col>Geography</th><th scope=col>Age</th><th scope=col>Tenure</th><th scope=col>Balance</th><th scope=col>NumOfProducts</th><th scope=col>HasCrCard</th><th scope=col>IsActiveMember</th><th scope=col>EstimatedSalary</th><th scope=col>Exited</th></tr></thead>\n",
       "<tbody>\n",
       "\t<tr><th scope=row>11</th><td>-1.23748505</td><td>-0.9177619 </td><td>-0.7617858 </td><td> 0.3979153 </td><td> 0.4121241 </td><td> 0.7772138 </td><td>-1.5418136 </td><td>-0.975061  </td><td>-0.3708209 </td><td>0          </td></tr>\n",
       "\t<tr><th scope=row>13</th><td>-1.76284916</td><td>-0.9177619 </td><td>-0.4720783 </td><td> 1.7886199 </td><td>-1.2343242 </td><td> 0.7772138 </td><td> 0.6482625 </td><td>-0.975061  </td><td>-1.3077491 </td><td>0          </td></tr>\n",
       "\t<tr><th scope=row>17</th><td> 0.02540944</td><td> 1.4879050 </td><td> 1.8455814 </td><td>-1.3404654 </td><td> 0.9057542 </td><td>-0.9142199 </td><td> 0.6482625 </td><td>-0.975061  </td><td>-1.6754875 </td><td>1          </td></tr>\n",
       "\t<tr><th scope=row>21</th><td> 0.82355875</td><td>-0.9177619 </td><td> 0.2039058 </td><td> 1.0932676 </td><td>-1.2343242 </td><td> 0.7772138 </td><td> 0.6482625 </td><td> 1.025064  </td><td> 1.2052900 </td><td>0          </td></tr>\n",
       "\t<tr><th scope=row>25</th><td> 1.97531853</td><td>-0.9177619 </td><td>-0.0858017 </td><td> 0.0502392 </td><td>-1.2343242 </td><td>-0.9142199 </td><td> 0.6482625 </td><td> 1.025064  </td><td> 1.4959939 </td><td>0          </td></tr>\n",
       "\t<tr><th scope=row>30</th><td>-2.41955429</td><td>-0.9177619 </td><td>-0.9549241 </td><td>-1.6881415 </td><td>-0.2708713 </td><td> 0.7772138 </td><td> 0.6482625 </td><td> 1.025064  </td><td>-0.8347297 </td><td>0          </td></tr>\n",
       "\t<tr><th scope=row>37</th><td>-1.62140497</td><td> 0.2850715 </td><td>-0.7617858 </td><td>-0.6451131 </td><td> 1.1100313 </td><td>-0.9142199 </td><td>-1.5418136 </td><td> 1.025064  </td><td> 0.2179836 </td><td>0          </td></tr>\n",
       "\t<tr><th scope=row>46</th><td> 1.26809761</td><td> 1.4879050 </td><td>-0.6652166 </td><td>-0.2974369 </td><td> 0.5316239 </td><td> 0.7772138 </td><td> 0.6482625 </td><td> 1.025064  </td><td> 0.4343295 </td><td>0          </td></tr>\n",
       "\t<tr><th scope=row>51</th><td> 0.48005145</td><td> 1.4879050 </td><td> 0.4936132 </td><td> 1.7886199 </td><td> 0.6436647 </td><td> 0.7772138 </td><td> 0.6482625 </td><td>-0.975061  </td><td> 1.6774538 </td><td>0          </td></tr>\n",
       "\t<tr><th scope=row>55</th><td>-0.49995467</td><td> 1.4879050 </td><td> 0.3004749 </td><td>-1.3404654 </td><td> 0.3552986 </td><td>-0.9142199 </td><td> 0.6482625 </td><td>-0.975061  </td><td>-1.0687604 </td><td>1          </td></tr>\n",
       "</tbody>\n",
       "</table>\n"
      ],
      "text/latex": [
       "\\begin{tabular}{r|llllllllll}\n",
       "  & CreditScore & Geography & Age & Tenure & Balance & NumOfProducts & HasCrCard & IsActiveMember & EstimatedSalary & Exited\\\\\n",
       "\\hline\n",
       "\t11 & -1.23748505 & -0.9177619  & -0.7617858  &  0.3979153  &  0.4121241  &  0.7772138  & -1.5418136  & -0.975061   & -0.3708209  & 0          \\\\\n",
       "\t13 & -1.76284916 & -0.9177619  & -0.4720783  &  1.7886199  & -1.2343242  &  0.7772138  &  0.6482625  & -0.975061   & -1.3077491  & 0          \\\\\n",
       "\t17 &  0.02540944 &  1.4879050  &  1.8455814  & -1.3404654  &  0.9057542  & -0.9142199  &  0.6482625  & -0.975061   & -1.6754875  & 1          \\\\\n",
       "\t21 &  0.82355875 & -0.9177619  &  0.2039058  &  1.0932676  & -1.2343242  &  0.7772138  &  0.6482625  &  1.025064   &  1.2052900  & 0          \\\\\n",
       "\t25 &  1.97531853 & -0.9177619  & -0.0858017  &  0.0502392  & -1.2343242  & -0.9142199  &  0.6482625  &  1.025064   &  1.4959939  & 0          \\\\\n",
       "\t30 & -2.41955429 & -0.9177619  & -0.9549241  & -1.6881415  & -0.2708713  &  0.7772138  &  0.6482625  &  1.025064   & -0.8347297  & 0          \\\\\n",
       "\t37 & -1.62140497 &  0.2850715  & -0.7617858  & -0.6451131  &  1.1100313  & -0.9142199  & -1.5418136  &  1.025064   &  0.2179836  & 0          \\\\\n",
       "\t46 &  1.26809761 &  1.4879050  & -0.6652166  & -0.2974369  &  0.5316239  &  0.7772138  &  0.6482625  &  1.025064   &  0.4343295  & 0          \\\\\n",
       "\t51 &  0.48005145 &  1.4879050  &  0.4936132  &  1.7886199  &  0.6436647  &  0.7772138  &  0.6482625  & -0.975061   &  1.6774538  & 0          \\\\\n",
       "\t55 & -0.49995467 &  1.4879050  &  0.3004749  & -1.3404654  &  0.3552986  & -0.9142199  &  0.6482625  & -0.975061   & -1.0687604  & 1          \\\\\n",
       "\\end{tabular}\n"
      ],
      "text/markdown": [
       "\n",
       "| <!--/--> | CreditScore | Geography | Age | Tenure | Balance | NumOfProducts | HasCrCard | IsActiveMember | EstimatedSalary | Exited | \n",
       "|---|---|---|---|---|---|---|---|---|---|\n",
       "| 11 | -1.23748505 | -0.9177619  | -0.7617858  |  0.3979153  |  0.4121241  |  0.7772138  | -1.5418136  | -0.975061   | -0.3708209  | 0           | \n",
       "| 13 | -1.76284916 | -0.9177619  | -0.4720783  |  1.7886199  | -1.2343242  |  0.7772138  |  0.6482625  | -0.975061   | -1.3077491  | 0           | \n",
       "| 17 |  0.02540944 |  1.4879050  |  1.8455814  | -1.3404654  |  0.9057542  | -0.9142199  |  0.6482625  | -0.975061   | -1.6754875  | 1           | \n",
       "| 21 |  0.82355875 | -0.9177619  |  0.2039058  |  1.0932676  | -1.2343242  |  0.7772138  |  0.6482625  |  1.025064   |  1.2052900  | 0           | \n",
       "| 25 |  1.97531853 | -0.9177619  | -0.0858017  |  0.0502392  | -1.2343242  | -0.9142199  |  0.6482625  |  1.025064   |  1.4959939  | 0           | \n",
       "| 30 | -2.41955429 | -0.9177619  | -0.9549241  | -1.6881415  | -0.2708713  |  0.7772138  |  0.6482625  |  1.025064   | -0.8347297  | 0           | \n",
       "| 37 | -1.62140497 |  0.2850715  | -0.7617858  | -0.6451131  |  1.1100313  | -0.9142199  | -1.5418136  |  1.025064   |  0.2179836  | 0           | \n",
       "| 46 |  1.26809761 |  1.4879050  | -0.6652166  | -0.2974369  |  0.5316239  |  0.7772138  |  0.6482625  |  1.025064   |  0.4343295  | 0           | \n",
       "| 51 |  0.48005145 |  1.4879050  |  0.4936132  |  1.7886199  |  0.6436647  |  0.7772138  |  0.6482625  | -0.975061   |  1.6774538  | 0           | \n",
       "| 55 | -0.49995467 |  1.4879050  |  0.3004749  | -1.3404654  |  0.3552986  | -0.9142199  |  0.6482625  | -0.975061   | -1.0687604  | 1           | \n",
       "\n",
       "\n"
      ],
      "text/plain": [
       "   CreditScore Geography  Age        Tenure     Balance    NumOfProducts\n",
       "11 -1.23748505 -0.9177619 -0.7617858  0.3979153  0.4121241  0.7772138   \n",
       "13 -1.76284916 -0.9177619 -0.4720783  1.7886199 -1.2343242  0.7772138   \n",
       "17  0.02540944  1.4879050  1.8455814 -1.3404654  0.9057542 -0.9142199   \n",
       "21  0.82355875 -0.9177619  0.2039058  1.0932676 -1.2343242  0.7772138   \n",
       "25  1.97531853 -0.9177619 -0.0858017  0.0502392 -1.2343242 -0.9142199   \n",
       "30 -2.41955429 -0.9177619 -0.9549241 -1.6881415 -0.2708713  0.7772138   \n",
       "37 -1.62140497  0.2850715 -0.7617858 -0.6451131  1.1100313 -0.9142199   \n",
       "46  1.26809761  1.4879050 -0.6652166 -0.2974369  0.5316239  0.7772138   \n",
       "51  0.48005145  1.4879050  0.4936132  1.7886199  0.6436647  0.7772138   \n",
       "55 -0.49995467  1.4879050  0.3004749 -1.3404654  0.3552986 -0.9142199   \n",
       "   HasCrCard  IsActiveMember EstimatedSalary Exited\n",
       "11 -1.5418136 -0.975061      -0.3708209      0     \n",
       "13  0.6482625 -0.975061      -1.3077491      0     \n",
       "17  0.6482625 -0.975061      -1.6754875      1     \n",
       "21  0.6482625  1.025064       1.2052900      0     \n",
       "25  0.6482625  1.025064       1.4959939      0     \n",
       "30  0.6482625  1.025064      -0.8347297      0     \n",
       "37 -1.5418136  1.025064       0.2179836      0     \n",
       "46  0.6482625  1.025064       0.4343295      0     \n",
       "51  0.6482625 -0.975061       1.6774538      0     \n",
       "55  0.6482625 -0.975061      -1.0687604      1     "
      ]
     },
     "metadata": {},
     "output_type": "display_data"
    }
   ],
   "source": [
    "head(test_set, 10)"
   ]
  },
  {
   "cell_type": "markdown",
   "metadata": {},
   "source": [
    "### Fiting ANN to the Training set"
   ]
  },
  {
   "cell_type": "code",
   "execution_count": 10,
   "metadata": {},
   "outputs": [],
   "source": [
    "# install.packages('h2o')"
   ]
  },
  {
   "cell_type": "code",
   "execution_count": 11,
   "metadata": {},
   "outputs": [
    {
     "name": "stderr",
     "output_type": "stream",
     "text": [
      "\n",
      "----------------------------------------------------------------------\n",
      "\n",
      "Your next step is to start H2O:\n",
      "    > h2o.init()\n",
      "\n",
      "For H2O package documentation, ask for help:\n",
      "    > ??h2o\n",
      "\n",
      "After starting H2O, you can use the Web UI at http://localhost:54321\n",
      "For more information visit http://docs.h2o.ai\n",
      "\n",
      "----------------------------------------------------------------------\n",
      "\n",
      "\n",
      "Attaching package: ‘h2o’\n",
      "\n",
      "The following objects are masked from ‘package:stats’:\n",
      "\n",
      "    cor, sd, var\n",
      "\n",
      "The following objects are masked from ‘package:base’:\n",
      "\n",
      "    &&, %*%, %in%, ||, apply, as.factor, as.numeric, colnames,\n",
      "    colnames<-, ifelse, is.character, is.factor, is.numeric, log,\n",
      "    log10, log1p, log2, round, signif, trunc\n",
      "\n"
     ]
    },
    {
     "name": "stdout",
     "output_type": "stream",
     "text": [
      "\n",
      "H2O is not running yet, starting it now...\n",
      "\n",
      "Note:  In case of errors look at the following log files:\n",
      "    /tmp/Rtmp8aN7Ch/h2o_baka_started_from_r.out\n",
      "    /tmp/Rtmp8aN7Ch/h2o_baka_started_from_r.err\n",
      "\n",
      "\n",
      "Starting H2O JVM and connecting: ....... Connection successful!\n",
      "\n",
      "R is connected to the H2O cluster: \n",
      "    H2O cluster uptime:         5 seconds 838 milliseconds \n",
      "    H2O cluster version:        3.16.0.2 \n",
      "    H2O cluster version age:    27 days  \n",
      "    H2O cluster name:           H2O_started_from_R_baka_fmq912 \n",
      "    H2O cluster total nodes:    1 \n",
      "    H2O cluster total memory:   0.82 GB \n",
      "    H2O cluster total cores:    4 \n",
      "    H2O cluster allowed cores:  4 \n",
      "    H2O cluster healthy:        TRUE \n",
      "    H2O Connection ip:          localhost \n",
      "    H2O Connection port:        54321 \n",
      "    H2O Connection proxy:       NA \n",
      "    H2O Internal Security:      FALSE \n",
      "    H2O API Extensions:         XGBoost, Algos, AutoML, Core V3, Core V4 \n",
      "    R Version:                  R version 3.4.2 (2017-09-28) \n",
      "\n"
     ]
    }
   ],
   "source": [
    "library(h2o)\n",
    "h2o.init(nthreads = -1)"
   ]
  },
  {
   "cell_type": "code",
   "execution_count": 12,
   "metadata": {},
   "outputs": [
    {
     "name": "stdout",
     "output_type": "stream",
     "text": [
      "\r",
      "  |                                                                            \r",
      "  |                                                                      |   0%\r",
      "  |                                                                            \r",
      "  |======================================================================| 100%\n",
      "\r",
      "  |                                                                            \r",
      "  |                                                                      |   0%\r",
      "  |                                                                            \r",
      "  |===================================                                   |  50%\r",
      "  |                                                                            \r",
      "  |======================================================================| 100%\n"
     ]
    }
   ],
   "source": [
    "classifier = h2o.deeplearning(y = 'Exited', \n",
    "                              training_frame = as.h2o(training_set),\n",
    "                              activation = 'Rectifier',\n",
    "                              hidden = c(6, 6),\n",
    "                              epochs = 100,\n",
    "                              train_samples_per_iteration = -2)"
   ]
  },
  {
   "cell_type": "markdown",
   "metadata": {},
   "source": [
    "### Predicting the Test set results"
   ]
  },
  {
   "cell_type": "code",
   "execution_count": 13,
   "metadata": {},
   "outputs": [
    {
     "name": "stdout",
     "output_type": "stream",
     "text": [
      "\r",
      "  |                                                                            \r",
      "  |                                                                      |   0%\r",
      "  |                                                                            \r",
      "  |======================================================================| 100%\n",
      "\r",
      "  |                                                                            \r",
      "  |                                                                      |   0%\r",
      "  |                                                                            \r",
      "  |======================================================================| 100%\n"
     ]
    }
   ],
   "source": [
    "prob_pred = h2o.predict(classifier, \n",
    "                        newdata = as.h2o(test_set[-10]))\n",
    "y_pred = (prob_pred > 0.5)\n",
    "\n",
    "# Convert h2o object to vector\n",
    "y_pred = as.vector(y_pred)"
   ]
  },
  {
   "cell_type": "code",
   "execution_count": 14,
   "metadata": {},
   "outputs": [
    {
     "data": {
      "text/html": [
       "<ol class=list-inline>\n",
       "\t<li>0</li>\n",
       "\t<li>0</li>\n",
       "\t<li>1</li>\n",
       "\t<li>0</li>\n",
       "\t<li>0</li>\n",
       "\t<li>0</li>\n",
       "\t<li>0</li>\n",
       "\t<li>0</li>\n",
       "\t<li>0</li>\n",
       "\t<li>0</li>\n",
       "\t<li>0</li>\n",
       "\t<li>0</li>\n",
       "\t<li>1</li>\n",
       "\t<li>0</li>\n",
       "\t<li>0</li>\n",
       "\t<li>0</li>\n",
       "\t<li>0</li>\n",
       "\t<li>0</li>\n",
       "\t<li>0</li>\n",
       "\t<li>0</li>\n",
       "</ol>\n"
      ],
      "text/latex": [
       "\\begin{enumerate*}\n",
       "\\item 0\n",
       "\\item 0\n",
       "\\item 1\n",
       "\\item 0\n",
       "\\item 0\n",
       "\\item 0\n",
       "\\item 0\n",
       "\\item 0\n",
       "\\item 0\n",
       "\\item 0\n",
       "\\item 0\n",
       "\\item 0\n",
       "\\item 1\n",
       "\\item 0\n",
       "\\item 0\n",
       "\\item 0\n",
       "\\item 0\n",
       "\\item 0\n",
       "\\item 0\n",
       "\\item 0\n",
       "\\end{enumerate*}\n"
      ],
      "text/markdown": [
       "1. 0\n",
       "2. 0\n",
       "3. 1\n",
       "4. 0\n",
       "5. 0\n",
       "6. 0\n",
       "7. 0\n",
       "8. 0\n",
       "9. 0\n",
       "10. 0\n",
       "11. 0\n",
       "12. 0\n",
       "13. 1\n",
       "14. 0\n",
       "15. 0\n",
       "16. 0\n",
       "17. 0\n",
       "18. 0\n",
       "19. 0\n",
       "20. 0\n",
       "\n",
       "\n"
      ],
      "text/plain": [
       " [1] 0 0 1 0 0 0 0 0 0 0 0 0 1 0 0 0 0 0 0 0"
      ]
     },
     "metadata": {},
     "output_type": "display_data"
    }
   ],
   "source": [
    "head(y_pred, 20)"
   ]
  },
  {
   "cell_type": "code",
   "execution_count": 15,
   "metadata": {},
   "outputs": [
    {
     "data": {
      "text/html": [
       "<ol class=list-inline>\n",
       "\t<li>0</li>\n",
       "\t<li>0</li>\n",
       "\t<li>1</li>\n",
       "\t<li>0</li>\n",
       "\t<li>0</li>\n",
       "\t<li>0</li>\n",
       "\t<li>0</li>\n",
       "\t<li>0</li>\n",
       "\t<li>0</li>\n",
       "\t<li>1</li>\n",
       "\t<li>0</li>\n",
       "\t<li>0</li>\n",
       "\t<li>1</li>\n",
       "\t<li>0</li>\n",
       "\t<li>0</li>\n",
       "\t<li>0</li>\n",
       "\t<li>0</li>\n",
       "\t<li>0</li>\n",
       "\t<li>0</li>\n",
       "\t<li>0</li>\n",
       "</ol>\n"
      ],
      "text/latex": [
       "\\begin{enumerate*}\n",
       "\\item 0\n",
       "\\item 0\n",
       "\\item 1\n",
       "\\item 0\n",
       "\\item 0\n",
       "\\item 0\n",
       "\\item 0\n",
       "\\item 0\n",
       "\\item 0\n",
       "\\item 1\n",
       "\\item 0\n",
       "\\item 0\n",
       "\\item 1\n",
       "\\item 0\n",
       "\\item 0\n",
       "\\item 0\n",
       "\\item 0\n",
       "\\item 0\n",
       "\\item 0\n",
       "\\item 0\n",
       "\\end{enumerate*}\n"
      ],
      "text/markdown": [
       "1. 0\n",
       "2. 0\n",
       "3. 1\n",
       "4. 0\n",
       "5. 0\n",
       "6. 0\n",
       "7. 0\n",
       "8. 0\n",
       "9. 0\n",
       "10. 1\n",
       "11. 0\n",
       "12. 0\n",
       "13. 1\n",
       "14. 0\n",
       "15. 0\n",
       "16. 0\n",
       "17. 0\n",
       "18. 0\n",
       "19. 0\n",
       "20. 0\n",
       "\n",
       "\n"
      ],
      "text/plain": [
       " [1] 0 0 1 0 0 0 0 0 0 1 0 0 1 0 0 0 0 0 0 0"
      ]
     },
     "metadata": {},
     "output_type": "display_data"
    }
   ],
   "source": [
    "head(test_set[, 10], 20)"
   ]
  },
  {
   "cell_type": "markdown",
   "metadata": {},
   "source": [
    "### Making the Confusion Matrix"
   ]
  },
  {
   "cell_type": "code",
   "execution_count": 16,
   "metadata": {},
   "outputs": [
    {
     "data": {
      "text/plain": [
       "   y_pred\n",
       "       0    1\n",
       "  0 1530   63\n",
       "  1  218  189"
      ]
     },
     "metadata": {},
     "output_type": "display_data"
    }
   ],
   "source": [
    "cm = table(test_set[, 10], y_pred)\n",
    "cm"
   ]
  },
  {
   "cell_type": "markdown",
   "metadata": {},
   "source": [
    "### Calculating Accuracy"
   ]
  },
  {
   "cell_type": "code",
   "execution_count": 17,
   "metadata": {},
   "outputs": [
    {
     "data": {
      "text/html": [
       "0.8595"
      ],
      "text/latex": [
       "0.8595"
      ],
      "text/markdown": [
       "0.8595"
      ],
      "text/plain": [
       "[1] 0.8595"
      ]
     },
     "metadata": {},
     "output_type": "display_data"
    }
   ],
   "source": [
    "(cm[1, 1] + cm[2, 2]) / 2000"
   ]
  },
  {
   "cell_type": "markdown",
   "metadata": {},
   "source": [
    "### Disconnect from server"
   ]
  },
  {
   "cell_type": "code",
   "execution_count": 18,
   "metadata": {},
   "outputs": [
    {
     "name": "stdout",
     "output_type": "stream",
     "text": [
      "Are you sure you want to shutdown the H2O instance running at http://localhost:54321/ (Y/N)? y\n"
     ]
    },
    {
     "data": {
      "text/html": [
       "TRUE"
      ],
      "text/latex": [
       "TRUE"
      ],
      "text/markdown": [
       "TRUE"
      ],
      "text/plain": [
       "[1] TRUE"
      ]
     },
     "metadata": {},
     "output_type": "display_data"
    }
   ],
   "source": [
    "h2o.shutdown()"
   ]
  }
 ],
 "metadata": {
  "kernelspec": {
   "display_name": "R",
   "language": "R",
   "name": "ir"
  },
  "language_info": {
   "codemirror_mode": "r",
   "file_extension": ".r",
   "mimetype": "text/x-r-source",
   "name": "R",
   "pygments_lexer": "r",
   "version": "3.4.2"
  }
 },
 "nbformat": 4,
 "nbformat_minor": 2
}
