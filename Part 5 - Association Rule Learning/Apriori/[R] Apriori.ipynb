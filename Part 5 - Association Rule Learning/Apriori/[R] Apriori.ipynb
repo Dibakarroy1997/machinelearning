{
 "cells": [
  {
   "cell_type": "markdown",
   "metadata": {},
   "source": [
    "# Apriori"
   ]
  },
  {
   "cell_type": "markdown",
   "metadata": {},
   "source": [
    "### Data Preprocessing"
   ]
  },
  {
   "cell_type": "code",
   "execution_count": 1,
   "metadata": {
    "collapsed": true
   },
   "outputs": [],
   "source": [
    "dataset = read.csv('Market_Basket_Optimisation.csv', header = FALSE)\n",
    "# There is no header in dataset"
   ]
  },
  {
   "cell_type": "code",
   "execution_count": 2,
   "metadata": {},
   "outputs": [
    {
     "data": {
      "text/html": [
       "<table>\n",
       "<thead><tr><th scope=col>V1</th><th scope=col>V2</th><th scope=col>V3</th><th scope=col>V4</th><th scope=col>V5</th><th scope=col>V6</th><th scope=col>V7</th><th scope=col>V8</th><th scope=col>V9</th><th scope=col>V10</th><th scope=col>V11</th><th scope=col>V12</th><th scope=col>V13</th><th scope=col>V14</th><th scope=col>V15</th><th scope=col>V16</th><th scope=col>V17</th><th scope=col>V18</th><th scope=col>V19</th><th scope=col>V20</th></tr></thead>\n",
       "<tbody>\n",
       "\t<tr><td>shrimp           </td><td>almonds          </td><td>avocado          </td><td>vegetables mix   </td><td>green grapes     </td><td>whole weat flour </td><td>yams             </td><td>cottage cheese   </td><td>energy drink     </td><td>tomato juice     </td><td>low fat yogurt   </td><td>green tea        </td><td>honey            </td><td>salad            </td><td>mineral water    </td><td>salmon           </td><td>antioxydant juice</td><td>frozen smoothie  </td><td>spinach          </td><td>olive oil        </td></tr>\n",
       "\t<tr><td>burgers          </td><td>meatballs        </td><td>eggs             </td><td>                 </td><td>                 </td><td>                 </td><td>                 </td><td>                 </td><td>                 </td><td>                 </td><td>                 </td><td>                 </td><td>                 </td><td>                 </td><td>                 </td><td>                 </td><td>                 </td><td>                 </td><td>                 </td><td>                 </td></tr>\n",
       "\t<tr><td>chutney          </td><td>                 </td><td>                 </td><td>                 </td><td>                 </td><td>                 </td><td>                 </td><td>                 </td><td>                 </td><td>                 </td><td>                 </td><td>                 </td><td>                 </td><td>                 </td><td>                 </td><td>                 </td><td>                 </td><td>                 </td><td>                 </td><td>                 </td></tr>\n",
       "\t<tr><td>turkey           </td><td>avocado          </td><td>                 </td><td>                 </td><td>                 </td><td>                 </td><td>                 </td><td>                 </td><td>                 </td><td>                 </td><td>                 </td><td>                 </td><td>                 </td><td>                 </td><td>                 </td><td>                 </td><td>                 </td><td>                 </td><td>                 </td><td>                 </td></tr>\n",
       "\t<tr><td>mineral water    </td><td>milk             </td><td>energy bar       </td><td>whole wheat rice </td><td>green tea        </td><td>                 </td><td>                 </td><td>                 </td><td>                 </td><td>                 </td><td>                 </td><td>                 </td><td>                 </td><td>                 </td><td>                 </td><td>                 </td><td>                 </td><td>                 </td><td>                 </td><td>                 </td></tr>\n",
       "\t<tr><td>low fat yogurt   </td><td>                 </td><td>                 </td><td>                 </td><td>                 </td><td>                 </td><td>                 </td><td>                 </td><td>                 </td><td>                 </td><td>                 </td><td>                 </td><td>                 </td><td>                 </td><td>                 </td><td>                 </td><td>                 </td><td>                 </td><td>                 </td><td>                 </td></tr>\n",
       "\t<tr><td>whole wheat pasta</td><td>french fries     </td><td>                 </td><td>                 </td><td>                 </td><td>                 </td><td>                 </td><td>                 </td><td>                 </td><td>                 </td><td>                 </td><td>                 </td><td>                 </td><td>                 </td><td>                 </td><td>                 </td><td>                 </td><td>                 </td><td>                 </td><td>                 </td></tr>\n",
       "\t<tr><td>soup             </td><td>light cream      </td><td>shallot          </td><td>                 </td><td>                 </td><td>                 </td><td>                 </td><td>                 </td><td>                 </td><td>                 </td><td>                 </td><td>                 </td><td>                 </td><td>                 </td><td>                 </td><td>                 </td><td>                 </td><td>                 </td><td>                 </td><td>                 </td></tr>\n",
       "\t<tr><td>frozen vegetables</td><td>spaghetti        </td><td>green tea        </td><td>                 </td><td>                 </td><td>                 </td><td>                 </td><td>                 </td><td>                 </td><td>                 </td><td>                 </td><td>                 </td><td>                 </td><td>                 </td><td>                 </td><td>                 </td><td>                 </td><td>                 </td><td>                 </td><td>                 </td></tr>\n",
       "\t<tr><td>french fries     </td><td>                 </td><td>                 </td><td>                 </td><td>                 </td><td>                 </td><td>                 </td><td>                 </td><td>                 </td><td>                 </td><td>                 </td><td>                 </td><td>                 </td><td>                 </td><td>                 </td><td>                 </td><td>                 </td><td>                 </td><td>                 </td><td>                 </td></tr>\n",
       "</tbody>\n",
       "</table>\n"
      ],
      "text/latex": [
       "\\begin{tabular}{r|llllllllllllllllllll}\n",
       " V1 & V2 & V3 & V4 & V5 & V6 & V7 & V8 & V9 & V10 & V11 & V12 & V13 & V14 & V15 & V16 & V17 & V18 & V19 & V20\\\\\n",
       "\\hline\n",
       "\t shrimp            & almonds           & avocado           & vegetables mix    & green grapes      & whole weat flour  & yams              & cottage cheese    & energy drink      & tomato juice      & low fat yogurt    & green tea         & honey             & salad             & mineral water     & salmon            & antioxydant juice & frozen smoothie   & spinach           & olive oil        \\\\\n",
       "\t burgers           & meatballs         & eggs              &                   &                   &                   &                   &                   &                   &                   &                   &                   &                   &                   &                   &                   &                   &                   &                   &                  \\\\\n",
       "\t chutney           &                   &                   &                   &                   &                   &                   &                   &                   &                   &                   &                   &                   &                   &                   &                   &                   &                   &                   &                  \\\\\n",
       "\t turkey            & avocado           &                   &                   &                   &                   &                   &                   &                   &                   &                   &                   &                   &                   &                   &                   &                   &                   &                   &                  \\\\\n",
       "\t mineral water     & milk              & energy bar        & whole wheat rice  & green tea         &                   &                   &                   &                   &                   &                   &                   &                   &                   &                   &                   &                   &                   &                   &                  \\\\\n",
       "\t low fat yogurt    &                   &                   &                   &                   &                   &                   &                   &                   &                   &                   &                   &                   &                   &                   &                   &                   &                   &                   &                  \\\\\n",
       "\t whole wheat pasta & french fries      &                   &                   &                   &                   &                   &                   &                   &                   &                   &                   &                   &                   &                   &                   &                   &                   &                   &                  \\\\\n",
       "\t soup              & light cream       & shallot           &                   &                   &                   &                   &                   &                   &                   &                   &                   &                   &                   &                   &                   &                   &                   &                   &                  \\\\\n",
       "\t frozen vegetables & spaghetti         & green tea         &                   &                   &                   &                   &                   &                   &                   &                   &                   &                   &                   &                   &                   &                   &                   &                   &                  \\\\\n",
       "\t french fries      &                   &                   &                   &                   &                   &                   &                   &                   &                   &                   &                   &                   &                   &                   &                   &                   &                   &                   &                  \\\\\n",
       "\\end{tabular}\n"
      ],
      "text/markdown": [
       "\n",
       "V1 | V2 | V3 | V4 | V5 | V6 | V7 | V8 | V9 | V10 | V11 | V12 | V13 | V14 | V15 | V16 | V17 | V18 | V19 | V20 | \n",
       "|---|---|---|---|---|---|---|---|---|---|\n",
       "| shrimp            | almonds           | avocado           | vegetables mix    | green grapes      | whole weat flour  | yams              | cottage cheese    | energy drink      | tomato juice      | low fat yogurt    | green tea         | honey             | salad             | mineral water     | salmon            | antioxydant juice | frozen smoothie   | spinach           | olive oil         | \n",
       "| burgers           | meatballs         | eggs              |                   |                   |                   |                   |                   |                   |                   |                   |                   |                   |                   |                   |                   |                   |                   |                   |                   | \n",
       "| chutney           |                   |                   |                   |                   |                   |                   |                   |                   |                   |                   |                   |                   |                   |                   |                   |                   |                   |                   |                   | \n",
       "| turkey            | avocado           |                   |                   |                   |                   |                   |                   |                   |                   |                   |                   |                   |                   |                   |                   |                   |                   |                   |                   | \n",
       "| mineral water     | milk              | energy bar        | whole wheat rice  | green tea         |                   |                   |                   |                   |                   |                   |                   |                   |                   |                   |                   |                   |                   |                   |                   | \n",
       "| low fat yogurt    |                   |                   |                   |                   |                   |                   |                   |                   |                   |                   |                   |                   |                   |                   |                   |                   |                   |                   |                   | \n",
       "| whole wheat pasta | french fries      |                   |                   |                   |                   |                   |                   |                   |                   |                   |                   |                   |                   |                   |                   |                   |                   |                   |                   | \n",
       "| soup              | light cream       | shallot           |                   |                   |                   |                   |                   |                   |                   |                   |                   |                   |                   |                   |                   |                   |                   |                   |                   | \n",
       "| frozen vegetables | spaghetti         | green tea         |                   |                   |                   |                   |                   |                   |                   |                   |                   |                   |                   |                   |                   |                   |                   |                   |                   | \n",
       "| french fries      |                   |                   |                   |                   |                   |                   |                   |                   |                   |                   |                   |                   |                   |                   |                   |                   |                   |                   |                   | \n",
       "\n",
       "\n"
      ],
      "text/plain": [
       "   V1                V2           V3         V4               V5          \n",
       "1  shrimp            almonds      avocado    vegetables mix   green grapes\n",
       "2  burgers           meatballs    eggs                                    \n",
       "3  chutney                                                                \n",
       "4  turkey            avocado                                              \n",
       "5  mineral water     milk         energy bar whole wheat rice green tea   \n",
       "6  low fat yogurt                                                         \n",
       "7  whole wheat pasta french fries                                         \n",
       "8  soup              light cream  shallot                                 \n",
       "9  frozen vegetables spaghetti    green tea                               \n",
       "10 french fries                                                           \n",
       "   V6               V7   V8             V9           V10         \n",
       "1  whole weat flour yams cottage cheese energy drink tomato juice\n",
       "2                                                                \n",
       "3                                                                \n",
       "4                                                                \n",
       "5                                                                \n",
       "6                                                                \n",
       "7                                                                \n",
       "8                                                                \n",
       "9                                                                \n",
       "10                                                               \n",
       "   V11            V12       V13   V14   V15           V16    V17              \n",
       "1  low fat yogurt green tea honey salad mineral water salmon antioxydant juice\n",
       "2                                                                             \n",
       "3                                                                             \n",
       "4                                                                             \n",
       "5                                                                             \n",
       "6                                                                             \n",
       "7                                                                             \n",
       "8                                                                             \n",
       "9                                                                             \n",
       "10                                                                            \n",
       "   V18             V19     V20      \n",
       "1  frozen smoothie spinach olive oil\n",
       "2                                   \n",
       "3                                   \n",
       "4                                   \n",
       "5                                   \n",
       "6                                   \n",
       "7                                   \n",
       "8                                   \n",
       "9                                   \n",
       "10                                  "
      ]
     },
     "metadata": {},
     "output_type": "display_data"
    }
   ],
   "source": [
    "head(dataset, 10)"
   ]
  },
  {
   "cell_type": "code",
   "execution_count": 3,
   "metadata": {},
   "outputs": [
    {
     "data": {
      "text/html": [
       "<ol class=list-inline>\n",
       "\t<li>7501</li>\n",
       "\t<li>20</li>\n",
       "</ol>\n"
      ],
      "text/latex": [
       "\\begin{enumerate*}\n",
       "\\item 7501\n",
       "\\item 20\n",
       "\\end{enumerate*}\n"
      ],
      "text/markdown": [
       "1. 7501\n",
       "2. 20\n",
       "\n",
       "\n"
      ],
      "text/plain": [
       "[1] 7501   20"
      ]
     },
     "metadata": {},
     "output_type": "display_data"
    }
   ],
   "source": [
    "dim(dataset)"
   ]
  },
  {
   "cell_type": "markdown",
   "metadata": {},
   "source": [
    "***\n",
    "\n",
    "**Data contain 120 products.**\n",
    "\n",
    "***"
   ]
  },
  {
   "cell_type": "code",
   "execution_count": 14,
   "metadata": {
    "collapsed": true,
    "scrolled": true
   },
   "outputs": [],
   "source": [
    "# install.packages('arules')\n",
    "library(arules)"
   ]
  },
  {
   "cell_type": "code",
   "execution_count": 5,
   "metadata": {},
   "outputs": [
    {
     "name": "stdout",
     "output_type": "stream",
     "text": [
      "distribution of transactions with duplicates:\n",
      "1 \n",
      "5 \n"
     ]
    }
   ],
   "source": [
    "dataset = read.transactions('Market_Basket_Optimisation.csv', \n",
    "                            sep = ',', \n",
    "                            rm.duplicates =  TRUE)"
   ]
  },
  {
   "cell_type": "markdown",
   "metadata": {},
   "source": [
    "***\n",
    "\n",
    "**There are 5 transactions with 1 duplicates each.**\n",
    "\n",
    "***"
   ]
  },
  {
   "cell_type": "code",
   "execution_count": 6,
   "metadata": {},
   "outputs": [
    {
     "data": {
      "text/plain": [
       "transactions as itemMatrix in sparse format with\n",
       " 7501 rows (elements/itemsets/transactions) and\n",
       " 119 columns (items) and a density of 0.03288973 \n",
       "\n",
       "most frequent items:\n",
       "mineral water          eggs     spaghetti  french fries     chocolate \n",
       "         1788          1348          1306          1282          1229 \n",
       "      (Other) \n",
       "        22405 \n",
       "\n",
       "element (itemset/transaction) length distribution:\n",
       "sizes\n",
       "   1    2    3    4    5    6    7    8    9   10   11   12   13   14   15   16 \n",
       "1754 1358 1044  816  667  493  391  324  259  139  102   67   40   22   17    4 \n",
       "  18   19   20 \n",
       "   1    2    1 \n",
       "\n",
       "   Min. 1st Qu.  Median    Mean 3rd Qu.    Max. \n",
       "  1.000   2.000   3.000   3.914   5.000  20.000 \n",
       "\n",
       "includes extended item information - examples:\n",
       "             labels\n",
       "1           almonds\n",
       "2 antioxydant juice\n",
       "3         asparagus"
      ]
     },
     "metadata": {},
     "output_type": "display_data"
    }
   ],
   "source": [
    "summary(dataset)"
   ]
  },
  {
   "cell_type": "code",
   "execution_count": 7,
   "metadata": {},
   "outputs": [
    {
     "data": {
      "image/png": "[encoded data removed]",
      "text/plain": [
       "plot without title"
      ]
     },
     "metadata": {},
     "output_type": "display_data"
    }
   ],
   "source": [
    "# Top 10 sale items\n",
    "itemFrequencyPlot(dataset, topN = 10)"
   ]
  },
  {
   "cell_type": "markdown",
   "metadata": {},
   "source": [
    "### Training Apriori on the dataset"
   ]
  },
  {
   "cell_type": "code",
   "execution_count": 11,
   "metadata": {},
   "outputs": [
    {
     "data": {
      "text/html": [
       "0.00373333333333333"
      ],
      "text/latex": [
       "0.00373333333333333"
      ],
      "text/markdown": [
       "0.00373333333333333"
      ],
      "text/plain": [
       "[1] 0.003733333"
      ]
     },
     "metadata": {},
     "output_type": "display_data"
    }
   ],
   "source": [
    "min_support = 4*7/7500\n",
    "min_support"
   ]
  },
  {
   "cell_type": "code",
   "execution_count": 12,
   "metadata": {},
   "outputs": [
    {
     "name": "stdout",
     "output_type": "stream",
     "text": [
      "Apriori\n",
      "\n",
      "Parameter specification:\n",
      " confidence minval smax arem  aval originalSupport maxtime     support minlen\n",
      "        0.2    0.1    1 none FALSE            TRUE       5 0.003733333      1\n",
      " maxlen target   ext\n",
      "     10  rules FALSE\n",
      "\n",
      "Algorithmic control:\n",
      " filter tree heap memopt load sort verbose\n",
      "    0.1 TRUE TRUE  FALSE TRUE    2    TRUE\n",
      "\n",
      "Absolute minimum support count: 28 \n",
      "\n",
      "set item appearances ...[0 item(s)] done [0.00s].\n",
      "set transactions ...[119 item(s), 7501 transaction(s)] done [0.00s].\n",
      "sorting and recoding items ... [115 item(s)] done [0.00s].\n",
      "creating transaction tree ... done [0.00s].\n",
      "checking subsets of size 1 2 3 4 done [0.00s].\n",
      "writing ... [916 rule(s)] done [0.00s].\n",
      "creating S4 object  ... done [0.00s].\n"
     ]
    }
   ],
   "source": [
    "rules = apriori(data = dataset, \n",
    "                parameter = list(support = min_support, confidence = 0.2))"
   ]
  },
  {
   "cell_type": "markdown",
   "metadata": {},
   "source": [
    "### Visualization of the result"
   ]
  },
  {
   "cell_type": "code",
   "execution_count": 13,
   "metadata": {},
   "outputs": [
    {
     "name": "stdout",
     "output_type": "stream",
     "text": [
      "     lhs                                  rhs             support    \n",
      "[1]  {mineral water,whole wheat pasta} => {olive oil}     0.003866151\n",
      "[2]  {light cream}                     => {chicken}       0.004532729\n",
      "[3]  {pasta}                           => {escalope}      0.005865885\n",
      "[4]  {pasta}                           => {shrimp}        0.005065991\n",
      "[5]  {chocolate,herb & pepper}         => {ground beef}   0.003999467\n",
      "[6]  {eggs,ground beef}                => {herb & pepper} 0.004132782\n",
      "[7]  {whole wheat pasta}               => {olive oil}     0.007998933\n",
      "[8]  {herb & pepper,spaghetti}         => {ground beef}   0.006399147\n",
      "[9]  {herb & pepper,mineral water}     => {ground beef}   0.006665778\n",
      "[10] {frozen vegetables,soup}          => {milk}          0.003999467\n",
      "     confidence lift     count\n",
      "[1]  0.4027778  6.115863 29   \n",
      "[2]  0.2905983  4.843951 34   \n",
      "[3]  0.3728814  4.700812 44   \n",
      "[4]  0.3220339  4.506672 38   \n",
      "[5]  0.4411765  4.490183 30   \n",
      "[6]  0.2066667  4.178455 31   \n",
      "[7]  0.2714932  4.122410 60   \n",
      "[8]  0.3934426  4.004360 48   \n",
      "[9]  0.3906250  3.975683 50   \n",
      "[10] 0.5000000  3.858539 30   \n"
     ]
    }
   ],
   "source": [
    "inspect(sort(rules, by = 'lift')[1:10])"
   ]
  }
 ],
 "metadata": {
  "kernelspec": {
   "display_name": "R",
   "language": "R",
   "name": "ir"
  },
  "language_info": {
   "codemirror_mode": "r",
   "file_extension": ".r",
   "mimetype": "text/x-r-source",
   "name": "R",
   "pygments_lexer": "r",
   "version": "3.4.2"
  }
 },
 "nbformat": 4,
 "nbformat_minor": 2
}
