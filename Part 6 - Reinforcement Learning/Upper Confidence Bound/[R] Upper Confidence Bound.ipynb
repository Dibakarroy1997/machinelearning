{
 "cells": [
  {
   "cell_type": "markdown",
   "metadata": {},
   "source": [
    "# Upper Confidence Bound"
   ]
  },
  {
   "cell_type": "markdown",
   "metadata": {},
   "source": [
    "[A very great 4 minutes video on confidence interval](https://www.youtube.com/watch?v=tFWsuO9f74o)"
   ]
  },
  {
   "cell_type": "markdown",
   "metadata": {},
   "source": [
    "### Data preprocessing"
   ]
  },
  {
   "cell_type": "code",
   "execution_count": 1,
   "metadata": {
    "collapsed": true
   },
   "outputs": [],
   "source": [
    "# Importing the dataset\n",
    "dataset = read.csv('Ads_CTR_Optimisation.csv')"
   ]
  },
  {
   "cell_type": "code",
   "execution_count": 2,
   "metadata": {},
   "outputs": [
    {
     "data": {
      "text/html": [
       "<table>\n",
       "<thead><tr><th scope=col>Ad.1</th><th scope=col>Ad.2</th><th scope=col>Ad.3</th><th scope=col>Ad.4</th><th scope=col>Ad.5</th><th scope=col>Ad.6</th><th scope=col>Ad.7</th><th scope=col>Ad.8</th><th scope=col>Ad.9</th><th scope=col>Ad.10</th></tr></thead>\n",
       "<tbody>\n",
       "\t<tr><td>1</td><td>0</td><td>0</td><td>0</td><td>1</td><td>0</td><td>0</td><td>0</td><td>1</td><td>0</td></tr>\n",
       "\t<tr><td>0</td><td>0</td><td>0</td><td>0</td><td>0</td><td>0</td><td>0</td><td>0</td><td>1</td><td>0</td></tr>\n",
       "\t<tr><td>0</td><td>0</td><td>0</td><td>0</td><td>0</td><td>0</td><td>0</td><td>0</td><td>0</td><td>0</td></tr>\n",
       "\t<tr><td>0</td><td>1</td><td>0</td><td>0</td><td>0</td><td>0</td><td>0</td><td>1</td><td>0</td><td>0</td></tr>\n",
       "\t<tr><td>0</td><td>0</td><td>0</td><td>0</td><td>0</td><td>0</td><td>0</td><td>0</td><td>0</td><td>0</td></tr>\n",
       "\t<tr><td>1</td><td>1</td><td>0</td><td>0</td><td>0</td><td>0</td><td>0</td><td>0</td><td>0</td><td>0</td></tr>\n",
       "\t<tr><td>0</td><td>0</td><td>0</td><td>1</td><td>0</td><td>0</td><td>0</td><td>0</td><td>0</td><td>0</td></tr>\n",
       "\t<tr><td>1</td><td>1</td><td>0</td><td>0</td><td>1</td><td>0</td><td>0</td><td>0</td><td>0</td><td>0</td></tr>\n",
       "\t<tr><td>0</td><td>0</td><td>0</td><td>0</td><td>0</td><td>0</td><td>0</td><td>0</td><td>0</td><td>0</td></tr>\n",
       "\t<tr><td>0</td><td>0</td><td>1</td><td>0</td><td>0</td><td>0</td><td>0</td><td>0</td><td>0</td><td>0</td></tr>\n",
       "</tbody>\n",
       "</table>\n"
      ],
      "text/latex": [
       "\\begin{tabular}{r|llllllllll}\n",
       " Ad.1 & Ad.2 & Ad.3 & Ad.4 & Ad.5 & Ad.6 & Ad.7 & Ad.8 & Ad.9 & Ad.10\\\\\n",
       "\\hline\n",
       "\t 1 & 0 & 0 & 0 & 1 & 0 & 0 & 0 & 1 & 0\\\\\n",
       "\t 0 & 0 & 0 & 0 & 0 & 0 & 0 & 0 & 1 & 0\\\\\n",
       "\t 0 & 0 & 0 & 0 & 0 & 0 & 0 & 0 & 0 & 0\\\\\n",
       "\t 0 & 1 & 0 & 0 & 0 & 0 & 0 & 1 & 0 & 0\\\\\n",
       "\t 0 & 0 & 0 & 0 & 0 & 0 & 0 & 0 & 0 & 0\\\\\n",
       "\t 1 & 1 & 0 & 0 & 0 & 0 & 0 & 0 & 0 & 0\\\\\n",
       "\t 0 & 0 & 0 & 1 & 0 & 0 & 0 & 0 & 0 & 0\\\\\n",
       "\t 1 & 1 & 0 & 0 & 1 & 0 & 0 & 0 & 0 & 0\\\\\n",
       "\t 0 & 0 & 0 & 0 & 0 & 0 & 0 & 0 & 0 & 0\\\\\n",
       "\t 0 & 0 & 1 & 0 & 0 & 0 & 0 & 0 & 0 & 0\\\\\n",
       "\\end{tabular}\n"
      ],
      "text/markdown": [
       "\n",
       "Ad.1 | Ad.2 | Ad.3 | Ad.4 | Ad.5 | Ad.6 | Ad.7 | Ad.8 | Ad.9 | Ad.10 | \n",
       "|---|---|---|---|---|---|---|---|---|---|\n",
       "| 1 | 0 | 0 | 0 | 1 | 0 | 0 | 0 | 1 | 0 | \n",
       "| 0 | 0 | 0 | 0 | 0 | 0 | 0 | 0 | 1 | 0 | \n",
       "| 0 | 0 | 0 | 0 | 0 | 0 | 0 | 0 | 0 | 0 | \n",
       "| 0 | 1 | 0 | 0 | 0 | 0 | 0 | 1 | 0 | 0 | \n",
       "| 0 | 0 | 0 | 0 | 0 | 0 | 0 | 0 | 0 | 0 | \n",
       "| 1 | 1 | 0 | 0 | 0 | 0 | 0 | 0 | 0 | 0 | \n",
       "| 0 | 0 | 0 | 1 | 0 | 0 | 0 | 0 | 0 | 0 | \n",
       "| 1 | 1 | 0 | 0 | 1 | 0 | 0 | 0 | 0 | 0 | \n",
       "| 0 | 0 | 0 | 0 | 0 | 0 | 0 | 0 | 0 | 0 | \n",
       "| 0 | 0 | 1 | 0 | 0 | 0 | 0 | 0 | 0 | 0 | \n",
       "\n",
       "\n"
      ],
      "text/plain": [
       "   Ad.1 Ad.2 Ad.3 Ad.4 Ad.5 Ad.6 Ad.7 Ad.8 Ad.9 Ad.10\n",
       "1  1    0    0    0    1    0    0    0    1    0    \n",
       "2  0    0    0    0    0    0    0    0    1    0    \n",
       "3  0    0    0    0    0    0    0    0    0    0    \n",
       "4  0    1    0    0    0    0    0    1    0    0    \n",
       "5  0    0    0    0    0    0    0    0    0    0    \n",
       "6  1    1    0    0    0    0    0    0    0    0    \n",
       "7  0    0    0    1    0    0    0    0    0    0    \n",
       "8  1    1    0    0    1    0    0    0    0    0    \n",
       "9  0    0    0    0    0    0    0    0    0    0    \n",
       "10 0    0    1    0    0    0    0    0    0    0    "
      ]
     },
     "metadata": {},
     "output_type": "display_data"
    }
   ],
   "source": [
    "head(dataset, 10)"
   ]
  },
  {
   "cell_type": "markdown",
   "metadata": {},
   "source": [
    "### Implementing the Upper Confidence Bound"
   ]
  },
  {
   "cell_type": "code",
   "execution_count": 3,
   "metadata": {},
   "outputs": [],
   "source": [
    "N = dim(dataset)[1]\n",
    "d = dim(dataset)[2]\n",
    "ads_selected = integer(0)\n",
    "\n",
    "nb_of_sel = integer(d) # Number of Selections\n",
    "sum_of_rwd = integer(d) # Sums of reward\n",
    "total_reward = 0\n",
    "\n",
    "for (n in 1:N){\n",
    "    ad = 0\n",
    "    max_upper_bound = 0\n",
    "    for(i in 1:d){\n",
    "        if(nb_of_sel[i] > 0){\n",
    "            average_reward = sum_of_rwd[i] / nb_of_sel[i]\n",
    "            delta_i = sqrt(3/2 * log(n) / nb_of_sel[i])\n",
    "            upper_bound = average_reward + delta_i\n",
    "        }\n",
    "        else{\n",
    "            upper_bound = 1e400\n",
    "        }\n",
    "        if(upper_bound > max_upper_bound){\n",
    "            max_upper_bound = upper_bound\n",
    "            ad = i\n",
    "        }\n",
    "    }\n",
    "    ads_selected = append(ads_selected, ad)\n",
    "    nb_of_sel[ad] = nb_of_sel[ad] + 1\n",
    "    reward = dataset[n, ad]\n",
    "    sum_of_rwd[ad] = sum_of_rwd[ad] + reward\n",
    "    total_reward = total_reward + reward\n",
    "}"
   ]
  },
  {
   "cell_type": "code",
   "execution_count": 4,
   "metadata": {},
   "outputs": [
    {
     "data": {
      "text/html": [
       "2178"
      ],
      "text/latex": [
       "2178"
      ],
      "text/markdown": [
       "2178"
      ],
      "text/plain": [
       "[1] 2178"
      ]
     },
     "metadata": {},
     "output_type": "display_data"
    }
   ],
   "source": [
    "total_reward"
   ]
  },
  {
   "cell_type": "code",
   "execution_count": 5,
   "metadata": {},
   "outputs": [
    {
     "data": {
      "text/html": [
       "<ol class=list-inline>\n",
       "\t<li>5</li>\n",
       "\t<li>5</li>\n",
       "\t<li>5</li>\n",
       "\t<li>5</li>\n",
       "\t<li>5</li>\n",
       "\t<li>5</li>\n",
       "\t<li>5</li>\n",
       "\t<li>5</li>\n",
       "\t<li>5</li>\n",
       "\t<li>5</li>\n",
       "\t<li>5</li>\n",
       "\t<li>5</li>\n",
       "\t<li>5</li>\n",
       "\t<li>5</li>\n",
       "\t<li>5</li>\n",
       "\t<li>5</li>\n",
       "\t<li>5</li>\n",
       "\t<li>5</li>\n",
       "\t<li>5</li>\n",
       "\t<li>5</li>\n",
       "\t<li>5</li>\n",
       "</ol>\n"
      ],
      "text/latex": [
       "\\begin{enumerate*}\n",
       "\\item 5\n",
       "\\item 5\n",
       "\\item 5\n",
       "\\item 5\n",
       "\\item 5\n",
       "\\item 5\n",
       "\\item 5\n",
       "\\item 5\n",
       "\\item 5\n",
       "\\item 5\n",
       "\\item 5\n",
       "\\item 5\n",
       "\\item 5\n",
       "\\item 5\n",
       "\\item 5\n",
       "\\item 5\n",
       "\\item 5\n",
       "\\item 5\n",
       "\\item 5\n",
       "\\item 5\n",
       "\\item 5\n",
       "\\end{enumerate*}\n"
      ],
      "text/markdown": [
       "1. 5\n",
       "2. 5\n",
       "3. 5\n",
       "4. 5\n",
       "5. 5\n",
       "6. 5\n",
       "7. 5\n",
       "8. 5\n",
       "9. 5\n",
       "10. 5\n",
       "11. 5\n",
       "12. 5\n",
       "13. 5\n",
       "14. 5\n",
       "15. 5\n",
       "16. 5\n",
       "17. 5\n",
       "18. 5\n",
       "19. 5\n",
       "20. 5\n",
       "21. 5\n",
       "\n",
       "\n"
      ],
      "text/plain": [
       " [1] 5 5 5 5 5 5 5 5 5 5 5 5 5 5 5 5 5 5 5 5 5"
      ]
     },
     "metadata": {},
     "output_type": "display_data"
    }
   ],
   "source": [
    "# Best ad having highest convergent rate can be found by checking last few data of ads_selected\n",
    "ads_selected[9980:10000]"
   ]
  },
  {
   "cell_type": "markdown",
   "metadata": {},
   "source": [
    "### Visualizing the results"
   ]
  },
  {
   "cell_type": "code",
   "execution_count": 6,
   "metadata": {},
   "outputs": [
    {
     "data": {
      "image/png": "[encoded data removed]",
      "text/plain": [
       "Plot with title “Histogram of Ads selected”"
      ]
     },
     "metadata": {},
     "output_type": "display_data"
    }
   ],
   "source": [
    "hist(ads_selected, \n",
    "     col = 'green', \n",
    "     main = 'Histogram of Ads selected',\n",
    "     xlab = 'Ads',\n",
    "     ylab = 'Number of time each Ad was selected')"
   ]
  }
 ],
 "metadata": {
  "kernelspec": {
   "display_name": "R",
   "language": "R",
   "name": "ir"
  },
  "language_info": {
   "codemirror_mode": "r",
   "file_extension": ".r",
   "mimetype": "text/x-r-source",
   "name": "R",
   "pygments_lexer": "r",
   "version": "3.4.2"
  }
 },
 "nbformat": 4,
 "nbformat_minor": 2
}
