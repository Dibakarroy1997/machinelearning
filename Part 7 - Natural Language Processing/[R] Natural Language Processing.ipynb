{
 "cells": [
  {
   "cell_type": "markdown",
   "metadata": {},
   "source": [
    "# Natural Language Processing"
   ]
  },
  {
   "cell_type": "markdown",
   "metadata": {},
   "source": [
    "### Data Preprocessing"
   ]
  },
  {
   "cell_type": "code",
   "execution_count": 1,
   "metadata": {},
   "outputs": [],
   "source": [
    "# Importing the dataset\n",
    "dataset_original = read.delim('Restaurant_Reviews.tsv', \n",
    "                    quote = '',\n",
    "                    stringsAsFactors = FALSE)"
   ]
  },
  {
   "cell_type": "code",
   "execution_count": 2,
   "metadata": {},
   "outputs": [
    {
     "data": {
      "text/html": [
       "<table>\n",
       "<thead><tr><th scope=col>Review</th><th scope=col>Liked</th></tr></thead>\n",
       "<tbody>\n",
       "\t<tr><td>Wow... Loved this place.                                                                                       </td><td>1                                                                                                              </td></tr>\n",
       "\t<tr><td>Crust is not good.                                                                                             </td><td>0                                                                                                              </td></tr>\n",
       "\t<tr><td>Not tasty and the texture was just nasty.                                                                      </td><td>0                                                                                                              </td></tr>\n",
       "\t<tr><td>Stopped by during the late May bank holiday off Rick Steve recommendation and loved it.                        </td><td>1                                                                                                              </td></tr>\n",
       "\t<tr><td>The selection on the menu was great and so were the prices.                                                    </td><td>1                                                                                                              </td></tr>\n",
       "\t<tr><td>Now I am getting angry and I want my damn pho.                                                                 </td><td>0                                                                                                              </td></tr>\n",
       "\t<tr><td>Honeslty it didn't taste THAT fresh.)                                                                          </td><td>0                                                                                                              </td></tr>\n",
       "\t<tr><td>The potatoes were like rubber and you could tell they had been made up ahead of time being kept under a warmer.</td><td>0                                                                                                              </td></tr>\n",
       "\t<tr><td>The fries were great too.                                                                                      </td><td>1                                                                                                              </td></tr>\n",
       "\t<tr><td>A great touch.                                                                                                 </td><td>1                                                                                                              </td></tr>\n",
       "</tbody>\n",
       "</table>\n"
      ],
      "text/latex": [
       "\\begin{tabular}{r|ll}\n",
       " Review & Liked\\\\\n",
       "\\hline\n",
       "\t Wow... Loved this place.                                                                                        & 1                                                                                                              \\\\\n",
       "\t Crust is not good.                                                                                              & 0                                                                                                              \\\\\n",
       "\t Not tasty and the texture was just nasty.                                                                       & 0                                                                                                              \\\\\n",
       "\t Stopped by during the late May bank holiday off Rick Steve recommendation and loved it.                         & 1                                                                                                              \\\\\n",
       "\t The selection on the menu was great and so were the prices.                                                     & 1                                                                                                              \\\\\n",
       "\t Now I am getting angry and I want my damn pho.                                                                  & 0                                                                                                              \\\\\n",
       "\t Honeslty it didn't taste THAT fresh.)                                                                           & 0                                                                                                              \\\\\n",
       "\t The potatoes were like rubber and you could tell they had been made up ahead of time being kept under a warmer. & 0                                                                                                              \\\\\n",
       "\t The fries were great too.                                                                                       & 1                                                                                                              \\\\\n",
       "\t A great touch.                                                                                                  & 1                                                                                                              \\\\\n",
       "\\end{tabular}\n"
      ],
      "text/markdown": [
       "\n",
       "Review | Liked | \n",
       "|---|---|---|---|---|---|---|---|---|---|\n",
       "| Wow... Loved this place.                                                                                        | 1                                                                                                               | \n",
       "| Crust is not good.                                                                                              | 0                                                                                                               | \n",
       "| Not tasty and the texture was just nasty.                                                                       | 0                                                                                                               | \n",
       "| Stopped by during the late May bank holiday off Rick Steve recommendation and loved it.                         | 1                                                                                                               | \n",
       "| The selection on the menu was great and so were the prices.                                                     | 1                                                                                                               | \n",
       "| Now I am getting angry and I want my damn pho.                                                                  | 0                                                                                                               | \n",
       "| Honeslty it didn't taste THAT fresh.)                                                                           | 0                                                                                                               | \n",
       "| The potatoes were like rubber and you could tell they had been made up ahead of time being kept under a warmer. | 0                                                                                                               | \n",
       "| The fries were great too.                                                                                       | 1                                                                                                               | \n",
       "| A great touch.                                                                                                  | 1                                                                                                               | \n",
       "\n",
       "\n"
      ],
      "text/plain": [
       "   Review                                                                                                         \n",
       "1  Wow... Loved this place.                                                                                       \n",
       "2  Crust is not good.                                                                                             \n",
       "3  Not tasty and the texture was just nasty.                                                                      \n",
       "4  Stopped by during the late May bank holiday off Rick Steve recommendation and loved it.                        \n",
       "5  The selection on the menu was great and so were the prices.                                                    \n",
       "6  Now I am getting angry and I want my damn pho.                                                                 \n",
       "7  Honeslty it didn't taste THAT fresh.)                                                                          \n",
       "8  The potatoes were like rubber and you could tell they had been made up ahead of time being kept under a warmer.\n",
       "9  The fries were great too.                                                                                      \n",
       "10 A great touch.                                                                                                 \n",
       "   Liked\n",
       "1  1    \n",
       "2  0    \n",
       "3  0    \n",
       "4  1    \n",
       "5  1    \n",
       "6  0    \n",
       "7  0    \n",
       "8  0    \n",
       "9  1    \n",
       "10 1    "
      ]
     },
     "metadata": {},
     "output_type": "display_data"
    }
   ],
   "source": [
    "head(dataset_original, 10)"
   ]
  },
  {
   "cell_type": "code",
   "execution_count": 3,
   "metadata": {},
   "outputs": [
    {
     "data": {
      "text/html": [
       "<ol class=list-inline>\n",
       "\t<li>1000</li>\n",
       "\t<li>2</li>\n",
       "</ol>\n"
      ],
      "text/latex": [
       "\\begin{enumerate*}\n",
       "\\item 1000\n",
       "\\item 2\n",
       "\\end{enumerate*}\n"
      ],
      "text/markdown": [
       "1. 1000\n",
       "2. 2\n",
       "\n",
       "\n"
      ],
      "text/plain": [
       "[1] 1000    2"
      ]
     },
     "metadata": {},
     "output_type": "display_data"
    }
   ],
   "source": [
    "dim(dataset_original)"
   ]
  },
  {
   "cell_type": "markdown",
   "metadata": {},
   "source": [
    "### Cleaning the texts"
   ]
  },
  {
   "cell_type": "code",
   "execution_count": 4,
   "metadata": {},
   "outputs": [
    {
     "name": "stderr",
     "output_type": "stream",
     "text": [
      "Loading required package: NLP\n"
     ]
    }
   ],
   "source": [
    "# install.packages('tm')\n",
    "library(tm)\n",
    "corpus = VCorpus(VectorSource(dataset_original$Review))\n",
    "\n",
    "# Lowercase each word\n",
    "corpus = tm_map(corpus, content_transformer(tolower))"
   ]
  },
  {
   "cell_type": "code",
   "execution_count": 5,
   "metadata": {},
   "outputs": [
    {
     "data": {
      "text/html": [
       "'Wow... Loved this place.'"
      ],
      "text/latex": [
       "'Wow... Loved this place.'"
      ],
      "text/markdown": [
       "'Wow... Loved this place.'"
      ],
      "text/plain": [
       "[1] \"Wow... Loved this place.\""
      ]
     },
     "metadata": {},
     "output_type": "display_data"
    }
   ],
   "source": [
    "dataset_original$Review[1]"
   ]
  },
  {
   "cell_type": "code",
   "execution_count": 6,
   "metadata": {},
   "outputs": [
    {
     "data": {
      "text/html": [
       "'wow... loved this place.'"
      ],
      "text/latex": [
       "'wow... loved this place.'"
      ],
      "text/markdown": [
       "'wow... loved this place.'"
      ],
      "text/plain": [
       "[1] \"wow... loved this place.\""
      ]
     },
     "metadata": {},
     "output_type": "display_data"
    }
   ],
   "source": [
    "as.character(corpus[[1]])"
   ]
  },
  {
   "cell_type": "code",
   "execution_count": 7,
   "metadata": {
    "collapsed": true
   },
   "outputs": [],
   "source": [
    "# Removing all the numbers\n",
    "corpus = tm_map(corpus, removeNumbers)"
   ]
  },
  {
   "cell_type": "code",
   "execution_count": 8,
   "metadata": {},
   "outputs": [
    {
     "data": {
      "text/html": [
       "'Took an hour to get our food only 4 tables in restaurant my food was Luke warm, Our sever was running around like he was totally overwhelmed.'"
      ],
      "text/latex": [
       "'Took an hour to get our food only 4 tables in restaurant my food was Luke warm, Our sever was running around like he was totally overwhelmed.'"
      ],
      "text/markdown": [
       "'Took an hour to get our food only 4 tables in restaurant my food was Luke warm, Our sever was running around like he was totally overwhelmed.'"
      ],
      "text/plain": [
       "[1] \"Took an hour to get our food only 4 tables in restaurant my food was Luke warm, Our sever was running around like he was totally overwhelmed.\""
      ]
     },
     "metadata": {},
     "output_type": "display_data"
    }
   ],
   "source": [
    "dataset_original$Review[29]"
   ]
  },
  {
   "cell_type": "code",
   "execution_count": 9,
   "metadata": {},
   "outputs": [
    {
     "data": {
      "text/html": [
       "<span style=white-space:pre-wrap>'took an hour to get our food only  tables in restaurant my food was luke warm, our sever was running around like he was totally overwhelmed.'</span>"
      ],
      "text/latex": [
       "'took an hour to get our food only  tables in restaurant my food was luke warm, our sever was running around like he was totally overwhelmed.'"
      ],
      "text/markdown": [
       "<span style=white-space:pre-wrap>'took an hour to get our food only  tables in restaurant my food was luke warm, our sever was running around like he was totally overwhelmed.'</span>"
      ],
      "text/plain": [
       "[1] \"took an hour to get our food only  tables in restaurant my food was luke warm, our sever was running around like he was totally overwhelmed.\""
      ]
     },
     "metadata": {},
     "output_type": "display_data"
    }
   ],
   "source": [
    "as.character(corpus[[29]])"
   ]
  },
  {
   "cell_type": "code",
   "execution_count": 10,
   "metadata": {
    "collapsed": true
   },
   "outputs": [],
   "source": [
    "# Removing all the Punctuation\n",
    "corpus = tm_map(corpus, removePunctuation)"
   ]
  },
  {
   "cell_type": "code",
   "execution_count": 11,
   "metadata": {},
   "outputs": [
    {
     "data": {
      "text/html": [
       "'Wow... Loved this place.'"
      ],
      "text/latex": [
       "'Wow... Loved this place.'"
      ],
      "text/markdown": [
       "'Wow... Loved this place.'"
      ],
      "text/plain": [
       "[1] \"Wow... Loved this place.\""
      ]
     },
     "metadata": {},
     "output_type": "display_data"
    }
   ],
   "source": [
    "dataset_original$Review[1]"
   ]
  },
  {
   "cell_type": "code",
   "execution_count": 12,
   "metadata": {},
   "outputs": [
    {
     "data": {
      "text/html": [
       "'wow loved this place'"
      ],
      "text/latex": [
       "'wow loved this place'"
      ],
      "text/markdown": [
       "'wow loved this place'"
      ],
      "text/plain": [
       "[1] \"wow loved this place\""
      ]
     },
     "metadata": {},
     "output_type": "display_data"
    }
   ],
   "source": [
    "as.character(corpus[[1]])"
   ]
  },
  {
   "cell_type": "code",
   "execution_count": 13,
   "metadata": {
    "collapsed": true
   },
   "outputs": [],
   "source": [
    "# Removing stopwords eg. 'the', 'a', 'an', 'in', 'on' i.e all the preposition and articles\n",
    "corpus = tm_map(corpus, removeWords, stopwords())"
   ]
  },
  {
   "cell_type": "code",
   "execution_count": 14,
   "metadata": {},
   "outputs": [
    {
     "data": {
      "text/html": [
       "'Wow... Loved this place.'"
      ],
      "text/latex": [
       "'Wow... Loved this place.'"
      ],
      "text/markdown": [
       "'Wow... Loved this place.'"
      ],
      "text/plain": [
       "[1] \"Wow... Loved this place.\""
      ]
     },
     "metadata": {},
     "output_type": "display_data"
    }
   ],
   "source": [
    "dataset_original$Review[1]"
   ]
  },
  {
   "cell_type": "code",
   "execution_count": 15,
   "metadata": {},
   "outputs": [
    {
     "data": {
      "text/html": [
       "<span style=white-space:pre-wrap>'wow loved  place'</span>"
      ],
      "text/latex": [
       "'wow loved  place'"
      ],
      "text/markdown": [
       "<span style=white-space:pre-wrap>'wow loved  place'</span>"
      ],
      "text/plain": [
       "[1] \"wow loved  place\""
      ]
     },
     "metadata": {},
     "output_type": "display_data"
    }
   ],
   "source": [
    "as.character(corpus[[1]])"
   ]
  },
  {
   "cell_type": "code",
   "execution_count": 16,
   "metadata": {},
   "outputs": [],
   "source": [
    "# Stemming\n",
    "# install.packages('SnowballC')\n",
    "corpus = tm_map(corpus, stemDocument)"
   ]
  },
  {
   "cell_type": "code",
   "execution_count": 17,
   "metadata": {},
   "outputs": [
    {
     "data": {
      "text/html": [
       "'Wow... Loved this place.'"
      ],
      "text/latex": [
       "'Wow... Loved this place.'"
      ],
      "text/markdown": [
       "'Wow... Loved this place.'"
      ],
      "text/plain": [
       "[1] \"Wow... Loved this place.\""
      ]
     },
     "metadata": {},
     "output_type": "display_data"
    }
   ],
   "source": [
    "dataset_original$Review[1]"
   ]
  },
  {
   "cell_type": "code",
   "execution_count": 18,
   "metadata": {},
   "outputs": [
    {
     "data": {
      "text/html": [
       "'wow love place'"
      ],
      "text/latex": [
       "'wow love place'"
      ],
      "text/markdown": [
       "'wow love place'"
      ],
      "text/plain": [
       "[1] \"wow love place\""
      ]
     },
     "metadata": {},
     "output_type": "display_data"
    }
   ],
   "source": [
    "as.character(corpus[[1]])"
   ]
  },
  {
   "cell_type": "code",
   "execution_count": 19,
   "metadata": {
    "collapsed": true
   },
   "outputs": [],
   "source": [
    "# Removing white space if any\n",
    "# corpus = tm_map(corpus, stripWhitespace)"
   ]
  },
  {
   "cell_type": "markdown",
   "metadata": {},
   "source": [
    "### Creating the Bag of Words model"
   ]
  },
  {
   "cell_type": "code",
   "execution_count": 20,
   "metadata": {
    "collapsed": true
   },
   "outputs": [],
   "source": [
    "dtm = DocumentTermMatrix(corpus)"
   ]
  },
  {
   "cell_type": "code",
   "execution_count": 21,
   "metadata": {},
   "outputs": [
    {
     "data": {
      "text/html": [
       "<ol class=list-inline>\n",
       "\t<li>1000</li>\n",
       "\t<li>1577</li>\n",
       "</ol>\n"
      ],
      "text/latex": [
       "\\begin{enumerate*}\n",
       "\\item 1000\n",
       "\\item 1577\n",
       "\\end{enumerate*}\n"
      ],
      "text/markdown": [
       "1. 1000\n",
       "2. 1577\n",
       "\n",
       "\n"
      ],
      "text/plain": [
       "[1] 1000 1577"
      ]
     },
     "metadata": {},
     "output_type": "display_data"
    }
   ],
   "source": [
    "dim(dtm)"
   ]
  },
  {
   "cell_type": "code",
   "execution_count": 22,
   "metadata": {},
   "outputs": [
    {
     "data": {
      "text/plain": [
       "<<DocumentTermMatrix (documents: 1000, terms: 1577)>>\n",
       "Non-/sparse entries: 5435/1571565\n",
       "Sparsity           : 100%\n",
       "Maximal term length: 32\n",
       "Weighting          : term frequency (tf)"
      ]
     },
     "metadata": {},
     "output_type": "display_data"
    }
   ],
   "source": [
    "dtm"
   ]
  },
  {
   "cell_type": "code",
   "execution_count": 23,
   "metadata": {
    "collapsed": true
   },
   "outputs": [],
   "source": [
    "# Filter words that are not frequent\n",
    "dtm = removeSparseTerms(dtm, 0.999)\n",
    "# Checking column for most 1"
   ]
  },
  {
   "cell_type": "code",
   "execution_count": 24,
   "metadata": {},
   "outputs": [
    {
     "data": {
      "text/plain": [
       "<<DocumentTermMatrix (documents: 1000, terms: 691)>>\n",
       "Non-/sparse entries: 4549/686451\n",
       "Sparsity           : 99%\n",
       "Maximal term length: 12\n",
       "Weighting          : term frequency (tf)"
      ]
     },
     "metadata": {},
     "output_type": "display_data"
    }
   ],
   "source": [
    "dtm"
   ]
  },
  {
   "cell_type": "code",
   "execution_count": 25,
   "metadata": {
    "collapsed": true
   },
   "outputs": [],
   "source": [
    "dataset = as.data.frame(as.matrix(dtm))\n",
    "dataset$Liked = dataset_original$Liked"
   ]
  },
  {
   "cell_type": "code",
   "execution_count": 26,
   "metadata": {},
   "outputs": [],
   "source": [
    "# Encoding the target feature as factor\n",
    "dataset$Liked = factor(dataset$Liked, levels = c(0, 1))\n",
    "\n",
    "# Splitting the dataset into the Training set and Test set\n",
    "# install.packages('caTools')\n",
    "library(caTools)\n",
    "set.seed(1234)\n",
    "split = sample.split(dataset$Liked, SplitRatio = 0.80)\n",
    "training_set = subset(dataset, split == TRUE)\n",
    "test_set = subset(dataset, split == FALSE)\n",
    "\n",
    "# Fitting Naive Bayes to the Training set\n",
    "# install.packages('e1071')\n",
    "library(e1071)\n",
    "classifier = naiveBayes(x = training_set[-692],\n",
    "                        y = training_set$Liked)\n",
    "\n",
    "# Predicting the Test set results\n",
    "y_pred = predict(classifier, newdata = test_set[-692])\n",
    "\n",
    "# Making the Confusion Matrix\n",
    "cm = table(test_set[, 692], y_pred)"
   ]
  },
  {
   "cell_type": "code",
   "execution_count": 27,
   "metadata": {},
   "outputs": [
    {
     "data": {
      "text/plain": [
       "   y_pred\n",
       "     0  1\n",
       "  0  9 91\n",
       "  1  7 93"
      ]
     },
     "metadata": {},
     "output_type": "display_data"
    }
   ],
   "source": [
    "cm"
   ]
  },
  {
   "cell_type": "code",
   "execution_count": 28,
   "metadata": {},
   "outputs": [
    {
     "name": "stderr",
     "output_type": "stream",
     "text": [
      "randomForest 4.6-12\n",
      "Type rfNews() to see new features/changes/bug fixes.\n"
     ]
    }
   ],
   "source": [
    "# Encoding the target feature as factor\n",
    "dataset$Liked = factor(dataset$Liked, levels = c(0, 1))\n",
    "\n",
    "# Splitting the dataset into the Training set and Test set\n",
    "# install.packages('caTools')\n",
    "library(caTools)\n",
    "set.seed(1234)\n",
    "split = sample.split(dataset$Liked, SplitRatio = 0.80)\n",
    "training_set = subset(dataset, split == TRUE)\n",
    "test_set = subset(dataset, split == FALSE)\n",
    "\n",
    "# Fitting Random Forest to the Training set\n",
    "# install.packages('randomForest')\n",
    "library(randomForest)\n",
    "classifier = randomForest(x = training_set[-692],\n",
    "                          y = training_set$Liked,\n",
    "                          ntree = 10)\n",
    "\n",
    "# Predicting the Test set results\n",
    "y_pred = predict(classifier, newdata = test_set[-692])\n",
    "\n",
    "# Making the Confusion Matrix\n",
    "cm = table(test_set[, 692], y_pred)"
   ]
  },
  {
   "cell_type": "code",
   "execution_count": 29,
   "metadata": {},
   "outputs": [
    {
     "data": {
      "text/plain": [
       "   y_pred\n",
       "     0  1\n",
       "  0 76 24\n",
       "  1 28 72"
      ]
     },
     "metadata": {},
     "output_type": "display_data"
    }
   ],
   "source": [
    "cm"
   ]
  },
  {
   "cell_type": "code",
   "execution_count": null,
   "metadata": {
    "collapsed": true
   },
   "outputs": [],
   "source": []
  }
 ],
 "metadata": {
  "kernelspec": {
   "display_name": "R",
   "language": "R",
   "name": "ir"
  },
  "language_info": {
   "codemirror_mode": "r",
   "file_extension": ".r",
   "mimetype": "text/x-r-source",
   "name": "R",
   "pygments_lexer": "r",
   "version": "3.4.2"
  }
 },
 "nbformat": 4,
 "nbformat_minor": 2
}
